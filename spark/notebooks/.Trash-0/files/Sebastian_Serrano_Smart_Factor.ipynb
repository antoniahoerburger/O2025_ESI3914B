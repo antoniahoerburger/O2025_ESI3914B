{
 "cells": [
  {
   "cell_type": "markdown",
   "id": "5768ddef-cc19-498b-a1a7-56a437fedf58",
   "metadata": {},
   "source": [
    "# <center> <img src=\"../img/ITESOLogo.png\" alt=\"ITESO\" width=\"480\" height=\"130\"> </center>\n",
    "# <center> **Departamento de Electrónica, Sistemas e Informática** </center>\n",
    "---\n",
    "## <center> **Big Data** </center>\n",
    "---\n",
    "### <center> **Autumn 2025** </center>\n",
    "---\n",
    "### <center> **Smart Factory Sensor Data** </center>\n",
    "---\n",
    "**Profesor**: Pablo Camarillo Ramirez"
   ]
  },
  {
   "cell_type": "code",
   "execution_count": null,
   "id": "02a21685-a661-407a-bf52-c62630cf37db",
   "metadata": {},
   "outputs": [],
   "source": [
    "import findspark\n",
    "findspark.init()"
   ]
  },
  {
   "cell_type": "code",
   "execution_count": null,
   "id": "978f13a4-d907-4f0a-bff5-44c6e83e662f",
   "metadata": {},
   "outputs": [],
   "source": [
    "from pyspark.sql import SparkSession\n",
    "from Modulo_Sebas.spark_utils import SparkUtils\n",
    "from datetime import datetime\n",
    "\n",
    "spark = SparkSession.builder \\\n",
    "    .appName(\"Examples on SparkSQL\") \\\n",
    "    .master(\"spark://22410cdc64b0:7077\") \\\n",
    "    .config(\"spark.ui.port\", \"4040\") \\\n",
    "    .getOrCreate()\n",
    "\n",
    "sc = spark.sparkContext\n",
    "sc.setLogLevel(\"ERROR\")"
   ]
  },
  {
   "cell_type": "code",
   "execution_count": 5,
   "id": "34feaa0d-a213-43e6-af25-fb184cf9d45b",
   "metadata": {},
   "outputs": [
    {
     "ename": "NameError",
     "evalue": "name 'datetime' is not defined",
     "output_type": "error",
     "traceback": [
      "\u001b[0;31m---------------------------------------------------------------------------\u001b[0m",
      "\u001b[0;31mNameError\u001b[0m                                 Traceback (most recent call last)",
      "Cell \u001b[0;32mIn[5], line 2\u001b[0m\n\u001b[1;32m      1\u001b[0m factory_data \u001b[38;5;241m=\u001b[39m [\n\u001b[0;32m----> 2\u001b[0m     (\u001b[38;5;124m\"\u001b[39m\u001b[38;5;124mM001\u001b[39m\u001b[38;5;124m\"\u001b[39m, \u001b[43mdatetime\u001b[49m(\u001b[38;5;241m2025\u001b[39m, \u001b[38;5;241m4\u001b[39m, \u001b[38;5;241m26\u001b[39m, \u001b[38;5;241m8\u001b[39m, \u001b[38;5;241m0\u001b[39m, \u001b[38;5;241m0\u001b[39m), \u001b[38;5;241m75.3\u001b[39m),\n\u001b[1;32m      3\u001b[0m     (\u001b[38;5;124m\"\u001b[39m\u001b[38;5;124mM002\u001b[39m\u001b[38;5;124m\"\u001b[39m, datetime(\u001b[38;5;241m2025\u001b[39m, \u001b[38;5;241m4\u001b[39m, \u001b[38;5;241m26\u001b[39m, \u001b[38;5;241m8\u001b[39m, \u001b[38;5;241m5\u001b[39m, \u001b[38;5;241m0\u001b[39m), \u001b[38;5;241m68.7\u001b[39m),\n\u001b[1;32m      4\u001b[0m     (\u001b[38;5;124m\"\u001b[39m\u001b[38;5;124mM001\u001b[39m\u001b[38;5;124m\"\u001b[39m, datetime(\u001b[38;5;241m2025\u001b[39m, \u001b[38;5;241m4\u001b[39m, \u001b[38;5;241m26\u001b[39m, \u001b[38;5;241m8\u001b[39m, \u001b[38;5;241m10\u001b[39m, \u001b[38;5;241m0\u001b[39m), \u001b[38;5;241m76.1\u001b[39m),\n\u001b[1;32m      5\u001b[0m     (\u001b[38;5;124m\"\u001b[39m\u001b[38;5;124mM003\u001b[39m\u001b[38;5;124m\"\u001b[39m, datetime(\u001b[38;5;241m2025\u001b[39m, \u001b[38;5;241m4\u001b[39m, \u001b[38;5;241m26\u001b[39m, \u001b[38;5;241m8\u001b[39m, \u001b[38;5;241m15\u001b[39m, \u001b[38;5;241m0\u001b[39m), \u001b[38;5;241m72.4\u001b[39m),\n\u001b[1;32m      6\u001b[0m     (\u001b[38;5;124m\"\u001b[39m\u001b[38;5;124mM002\u001b[39m\u001b[38;5;124m\"\u001b[39m, datetime(\u001b[38;5;241m2025\u001b[39m, \u001b[38;5;241m4\u001b[39m, \u001b[38;5;241m26\u001b[39m, \u001b[38;5;241m8\u001b[39m, \u001b[38;5;241m20\u001b[39m, \u001b[38;5;241m0\u001b[39m), \u001b[38;5;241m69.8\u001b[39m),\n\u001b[1;32m      7\u001b[0m     (\u001b[38;5;124m\"\u001b[39m\u001b[38;5;124mM001\u001b[39m\u001b[38;5;124m\"\u001b[39m, datetime(\u001b[38;5;241m2025\u001b[39m, \u001b[38;5;241m4\u001b[39m, \u001b[38;5;241m26\u001b[39m, \u001b[38;5;241m8\u001b[39m, \u001b[38;5;241m25\u001b[39m, \u001b[38;5;241m0\u001b[39m), \u001b[38;5;241m77.5\u001b[39m),\n\u001b[1;32m      8\u001b[0m     (\u001b[38;5;124m\"\u001b[39m\u001b[38;5;124mM003\u001b[39m\u001b[38;5;124m\"\u001b[39m, datetime(\u001b[38;5;241m2025\u001b[39m, \u001b[38;5;241m4\u001b[39m, \u001b[38;5;241m26\u001b[39m, \u001b[38;5;241m8\u001b[39m, \u001b[38;5;241m30\u001b[39m, \u001b[38;5;241m0\u001b[39m), \u001b[38;5;241m73.2\u001b[39m),\n\u001b[1;32m      9\u001b[0m     (\u001b[38;5;124m\"\u001b[39m\u001b[38;5;124mM002\u001b[39m\u001b[38;5;124m\"\u001b[39m, datetime(\u001b[38;5;241m2025\u001b[39m, \u001b[38;5;241m4\u001b[39m, \u001b[38;5;241m26\u001b[39m, \u001b[38;5;241m8\u001b[39m, \u001b[38;5;241m35\u001b[39m, \u001b[38;5;241m0\u001b[39m), \u001b[38;5;241m70.1\u001b[39m),\n\u001b[1;32m     10\u001b[0m     (\u001b[38;5;124m\"\u001b[39m\u001b[38;5;124mM001\u001b[39m\u001b[38;5;124m\"\u001b[39m, datetime(\u001b[38;5;241m2025\u001b[39m, \u001b[38;5;241m4\u001b[39m, \u001b[38;5;241m26\u001b[39m, \u001b[38;5;241m8\u001b[39m, \u001b[38;5;241m40\u001b[39m, \u001b[38;5;241m0\u001b[39m), \u001b[38;5;241m78.0\u001b[39m),\n\u001b[1;32m     11\u001b[0m     (\u001b[38;5;124m\"\u001b[39m\u001b[38;5;124mM003\u001b[39m\u001b[38;5;124m\"\u001b[39m, datetime(\u001b[38;5;241m2025\u001b[39m, \u001b[38;5;241m4\u001b[39m, \u001b[38;5;241m26\u001b[39m, \u001b[38;5;241m8\u001b[39m, \u001b[38;5;241m45\u001b[39m, \u001b[38;5;241m0\u001b[39m), \u001b[38;5;241m74.6\u001b[39m),\n\u001b[1;32m     12\u001b[0m ]\n",
      "\u001b[0;31mNameError\u001b[0m: name 'datetime' is not defined"
     ]
    }
   ],
   "source": [
    "factory_data = [\n",
    "    (\"M001\", datetime(2025, 4, 26, 8, 0, 0), 75.3),\n",
    "    (\"M002\", datetime(2025, 4, 26, 8, 5, 0), 68.7),\n",
    "    (\"M001\", datetime(2025, 4, 26, 8, 10, 0), 76.1),\n",
    "    (\"M003\", datetime(2025, 4, 26, 8, 15, 0), 72.4),\n",
    "    (\"M002\", datetime(2025, 4, 26, 8, 20, 0), 69.8),\n",
    "    (\"M001\", datetime(2025, 4, 26, 8, 25, 0), 77.5),\n",
    "    (\"M003\", datetime(2025, 4, 26, 8, 30, 0), 73.2),\n",
    "    (\"M002\", datetime(2025, 4, 26, 8, 35, 0), 70.1),\n",
    "    (\"M001\", datetime(2025, 4, 26, 8, 40, 0), 78.0),\n",
    "    (\"M003\", datetime(2025, 4, 26, 8, 45, 0), 74.6),\n",
    "]"
   ]
  },
  {
   "cell_type": "code",
   "execution_count": 6,
   "id": "bf930500-514a-40e5-8928-1ffc2fb0bb88",
   "metadata": {},
   "outputs": [
    {
     "ename": "ValueError",
     "evalue": "Unsupported type: timestamp",
     "output_type": "error",
     "traceback": [
      "\u001b[0;31m---------------------------------------------------------------------------\u001b[0m",
      "\u001b[0;31mValueError\u001b[0m                                Traceback (most recent call last)",
      "Cell \u001b[0;32mIn[6], line 1\u001b[0m\n\u001b[0;32m----> 1\u001b[0m factory_schema \u001b[38;5;241m=\u001b[39m \u001b[43mSparkUtils\u001b[49m\u001b[38;5;241;43m.\u001b[39;49m\u001b[43mgenerate_schema\u001b[49m\u001b[43m(\u001b[49m\u001b[43m[\u001b[49m\n\u001b[1;32m      2\u001b[0m \u001b[43m    \u001b[49m\u001b[43m(\u001b[49m\u001b[38;5;124;43m\"\u001b[39;49m\u001b[38;5;124;43mmachine_id\u001b[39;49m\u001b[38;5;124;43m\"\u001b[39;49m\u001b[43m,\u001b[49m\u001b[43m \u001b[49m\u001b[38;5;124;43m\"\u001b[39;49m\u001b[38;5;124;43mstring\u001b[39;49m\u001b[38;5;124;43m\"\u001b[39;49m\u001b[43m)\u001b[49m\u001b[43m,\u001b[49m\n\u001b[1;32m      3\u001b[0m \u001b[43m    \u001b[49m\u001b[43m(\u001b[49m\u001b[38;5;124;43m\"\u001b[39;49m\u001b[38;5;124;43msensor_timestamp\u001b[39;49m\u001b[38;5;124;43m\"\u001b[39;49m\u001b[43m,\u001b[49m\u001b[43m \u001b[49m\u001b[38;5;124;43m\"\u001b[39;49m\u001b[38;5;124;43mtimestamp\u001b[39;49m\u001b[38;5;124;43m\"\u001b[39;49m\u001b[43m)\u001b[49m\u001b[43m,\u001b[49m\n\u001b[1;32m      4\u001b[0m \u001b[43m    \u001b[49m\u001b[43m(\u001b[49m\u001b[38;5;124;43m\"\u001b[39;49m\u001b[38;5;124;43mtemp\u001b[39;49m\u001b[38;5;124;43m\"\u001b[39;49m\u001b[43m,\u001b[49m\u001b[43m \u001b[49m\u001b[38;5;124;43m\"\u001b[39;49m\u001b[38;5;124;43mfloat\u001b[39;49m\u001b[38;5;124;43m\"\u001b[39;49m\u001b[43m)\u001b[49m\n\u001b[1;32m      5\u001b[0m \u001b[43m]\u001b[49m\u001b[43m)\u001b[49m\n",
      "File \u001b[0;32m/opt/spark/work-dir/lib/Modulo_Sebas/spark_utils.py:16\u001b[0m, in \u001b[0;36mSparkUtils.generate_schema\u001b[0;34m(columns_info)\u001b[0m\n\u001b[1;32m     14\u001b[0m     key \u001b[38;5;241m=\u001b[39m type_str\u001b[38;5;241m.\u001b[39mstrip()\n\u001b[1;32m     15\u001b[0m     \u001b[38;5;28;01mif\u001b[39;00m key \u001b[38;5;129;01mnot\u001b[39;00m \u001b[38;5;129;01min\u001b[39;00m types_dict:\n\u001b[0;32m---> 16\u001b[0m         \u001b[38;5;28;01mraise\u001b[39;00m \u001b[38;5;167;01mValueError\u001b[39;00m(\u001b[38;5;124mf\u001b[39m\u001b[38;5;124m\"\u001b[39m\u001b[38;5;124mUnsupported type: \u001b[39m\u001b[38;5;132;01m{\u001b[39;00mtype_str\u001b[38;5;132;01m}\u001b[39;00m\u001b[38;5;124m\"\u001b[39m)\n\u001b[1;32m     17\u001b[0m     fields\u001b[38;5;241m.\u001b[39mappend(StructField(name, types_dict[key], \u001b[38;5;28;01mTrue\u001b[39;00m))\n\u001b[1;32m     18\u001b[0m \u001b[38;5;28;01mreturn\u001b[39;00m StructType(fields)\n",
      "\u001b[0;31mValueError\u001b[0m: Unsupported type: timestamp"
     ]
    }
   ],
   "source": [
    "factory_schema = SparkUtils.generate_schema([\n",
    "    (\"machine_id\", \"string\"),\n",
    "    (\"sensor_timestamp\", \"timestamp\"),\n",
    "    (\"temp\", \"float\")\n",
    "])\n",
    "\n",
    "df = spark.createDataFrame(factory_data, factory_schema)\n",
    "\n",
    "df.printSchema()\n",
    "\n",
    "df.groupBy(\"machine_id\").avg(\"temp\").show()\n",
    "\n",
    "df.groupBy(\"machine_id\").agg(\n",
    "    F.max(\"temp\").alias(\"max_temp\"),\n",
    "    F.min(\"temp\").alias(\"min_temp\")\n",
    ").show()\n",
    "\n",
    "df.filter(df.temp > 75).show()\n",
    "\n",
    "df.groupBy(\"machine_id\").count().show()\n",
    "\n",
    "df.orderBy(F.desc(\"temp\")).limit(1).show()"
   ]
  },
  {
   "cell_type": "code",
   "execution_count": null,
   "id": "6973ea86-401c-4434-8b83-19cd599ac781",
   "metadata": {},
   "outputs": [],
   "source": []
  }
 ],
 "metadata": {
  "kernelspec": {
   "display_name": "Python 3 (ipykernel)",
   "language": "python",
   "name": "python3"
  },
  "language_info": {
   "codemirror_mode": {
    "name": "ipython",
    "version": 3
   },
   "file_extension": ".py",
   "mimetype": "text/x-python",
   "name": "python",
   "nbconvert_exporter": "python",
   "pygments_lexer": "ipython3",
   "version": "3.10.12"
  }
 },
 "nbformat": 4,
 "nbformat_minor": 5
}
