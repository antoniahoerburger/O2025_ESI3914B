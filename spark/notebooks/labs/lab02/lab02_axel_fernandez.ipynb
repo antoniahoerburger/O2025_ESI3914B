{
 "cells": [
  {
   "cell_type": "markdown",
   "id": "dfeec634",
   "metadata": {},
   "source": [
    "# <center> <img src=\"../../img/ITESOLogo.png\" alt=\"ITESO\" width=\"480\" height=\"130\"> </center>\n",
    "# <center> **Departamento de Electrónica, Sistemas e Informática** </center>\n",
    "---\n",
    "## <center> Program: Procesamiento de datos masivos  </center>\n",
    "---\n",
    "### <center> **Autumn 2025** </center>\n",
    "---\n",
    "\n",
    "**Lab 02**: Bank Account Manager\n",
    "\n",
    "**Date**: Sep 02, 2025\n",
    "\n",
    "**Student Name**: Axel Leonardo Fernandez Albarran\n",
    "\n",
    "**Professor**: Pablo Camarillo Ramirez, PhD"
   ]
  },
  {
   "cell_type": "markdown",
   "id": "0f89ca44",
   "metadata": {},
   "source": [
    "# Primero importamos nuestro modulo"
   ]
  },
  {
   "cell_type": "code",
   "execution_count": 1,
   "id": "4b9ac90d",
   "metadata": {},
   "outputs": [],
   "source": [
    "from axel_fernandez.utils import BankAccount"
   ]
  },
  {
   "cell_type": "markdown",
   "id": "cfeeb596",
   "metadata": {},
   "source": [
    "# Creamos nuestra cuenta de banco y definimos la estructura de dato\n",
    "\n",
    "Nosotros agregamos una propiedad protegida la cual es el nombre del dueño de la cuenta del banco por lo que tambien la agregaremos dentro de la estructura de datos para su uso"
   ]
  },
  {
   "cell_type": "code",
   "execution_count": 2,
   "id": "60f61fae",
   "metadata": {},
   "outputs": [],
   "source": [
    "bank = BankAccount(\"Axel\")\n",
    "\n",
    "bank_operations = {\n",
    "    'deposit': bank.deposit,\n",
    "    'withdraw': bank.withdraw,\n",
    "    'balance': bank.get_balance,\n",
    "    'account': bank.__repr__\n",
    "}"
   ]
  },
  {
   "cell_type": "markdown",
   "id": "e49395f2",
   "metadata": {},
   "source": [
    "# Realizamos ciertas operaciones con la estructura de datos con funciones"
   ]
  },
  {
   "cell_type": "code",
   "execution_count": 3,
   "id": "f39e8e83",
   "metadata": {},
   "outputs": [
    {
     "name": "stdout",
     "output_type": "stream",
     "text": [
      "BankAccount -> (owner=axel, balance=0)\n",
      "Agregado 100 al saldo\n",
      "Balance despues del deposito: 100\n",
      "Retirado 50 del saldo\n",
      "Balance despues del retiro: 50\n"
     ]
    }
   ],
   "source": [
    "print(bank_operations['account']())  # Iniciamos mostrando los datos de la cuenta con la funcion extra agregada.\n",
    "\n",
    "bank_operations['deposit'](100)  # Depositamos 100\n",
    "print(f'Balance despues del deposito: {bank_operations[\"balance\"]()}')  # Mostramos el saldo reflejado\n",
    "\n",
    "bank_operations['withdraw'](50)  # Retiramos 50\n",
    "print(f'Balance despues del retiro: {bank_operations[\"balance\"]()}')  # Mostramos el saldo reflejado"
   ]
  }
 ],
 "metadata": {
  "kernelspec": {
   "display_name": "Python 3 (ipykernel)",
   "language": "python",
   "name": "python3"
  },
  "language_info": {
   "codemirror_mode": {
    "name": "ipython",
    "version": 3
   },
   "file_extension": ".py",
   "mimetype": "text/x-python",
   "name": "python",
   "nbconvert_exporter": "python",
   "pygments_lexer": "ipython3",
   "version": "3.10.12"
  }
 },
 "nbformat": 4,
 "nbformat_minor": 5
}
