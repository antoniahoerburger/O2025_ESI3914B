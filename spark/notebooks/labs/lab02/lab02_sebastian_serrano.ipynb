{
 "cells": [
  {
   "cell_type": "markdown",
   "id": "dfeec634",
   "metadata": {},
   "source": [
    "# <center> <img src=\"../../img/ITESOLogo.png\" alt=\"ITESO\" width=\"480\" height=\"130\"> </center>\n",
    "# <center> **Departamento de Electrónica, Sistemas e Informática** </center>\n",
    "---\n",
    "## <center> Program: Semestral  </center>\n",
    "---\n",
    "### <center> **Otoño 2025** </center>\n",
    "---\n",
    "\n",
    "**Lab 02**: Bank Account Manager\n",
    "\n",
    "**Date**: 02/09/2025\n",
    "\n",
    "**Student Name**: Vicente Sebastian Serrano Cabrera\n",
    "\n",
    "**Professor**: Pablo Camarillo Ramirez, PhD"
   ]
  },
  {
   "cell_type": "code",
   "execution_count": null,
   "id": "b5c0ab6e-59cb-417f-8e9b-10d15e4c3ed0",
   "metadata": {},
   "outputs": [],
   "source": [
    "def add(*args):\n",
    "    total = 0\n",
    "    for n in args:\n",
    "        total+= n\n",
    "    return total\n",
    "\n",
    "def substract(*args):\n",
    "    total = 0\n",
    "    for n in args:\n",
    "        total -= n\n",
    "    return total"
   ]
  }
 ],
 "metadata": {
  "kernelspec": {
   "display_name": "Python 3 (ipykernel)",
   "language": "python",
   "name": "python3"
  },
  "language_info": {
   "codemirror_mode": {
    "name": "ipython",
    "version": 3
   },
   "file_extension": ".py",
   "mimetype": "text/x-python",
   "name": "python",
   "nbconvert_exporter": "python",
   "pygments_lexer": "ipython3",
   "version": "3.10.12"
  }
 },
 "nbformat": 4,
 "nbformat_minor": 5
}
