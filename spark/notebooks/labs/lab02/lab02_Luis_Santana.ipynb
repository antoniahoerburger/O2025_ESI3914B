{
 "cells": [
  {
   "cell_type": "markdown",
   "id": "dfeec634",
   "metadata": {},
   "source": [
    "# <center> <img src=\"../../img/ITESOLogo.png\" alt=\"ITESO\" width=\"480\" height=\"130\"> </center>\n",
    "# <center> **Departamento de Electrónica, Sistemas e Informática** </center>\n",
    "---\n",
    "## <center> Program: _Ingenieria en Sistemas Computacionales_  </center>\n",
    "---\n",
    "### <center> **Autumn 2025** </center>\n",
    "---\n",
    "\n",
    "**Lab 02**: Bank Account Manager\n",
    "\n",
    "**Date**: Aug 29, 2025\n",
    "\n",
    "**Student Name**: Luis Angel Santana Hernandez\n",
    "\n",
    "**Professor**: Pablo Camarillo Ramirez "
   ]
  },
  {
   "cell_type": "markdown",
   "id": "134e092d",
   "metadata": {},
   "source": [
    "## Problem Statement\n",
    "\n",
    "Create a BankAccount class and add it in your own module 1 that uses a dictionary to store operations (functions) as values and their names (e.g., \"deposit\", \"withdraw\", and \"get balance\") as keys. Dynamically select and execute operations based on user input.\n",
    "\n",
    "## Example Usage\n",
    "\n",
    "1. account = BankAccount(1000)\n",
    "2. account.process(\"deposit\", 13)\n",
    "3. account.process(\"withdraw\", 717)"
   ]
  }
 ],
 "metadata": {
  "kernelspec": {
   "display_name": "Python 3 (ipykernel)",
   "language": "python",
   "name": "python3"
  }
 },
 "nbformat": 4,
 "nbformat_minor": 5
}
