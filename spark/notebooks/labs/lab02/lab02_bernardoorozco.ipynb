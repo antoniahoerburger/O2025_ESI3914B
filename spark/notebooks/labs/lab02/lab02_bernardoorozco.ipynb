{
 "cells": [
  {
   "cell_type": "markdown",
   "id": "dfeec634",
   "metadata": {},
   "source": [
    "# <center> <img src=\"../../img/ITESOLogo.png\" alt=\"ITESO\" width=\"480\" height=\"130\"> </center>\n",
    "# <center> **Departamento de Electrónica, Sistemas e Informática** </center>\n",
    "---\n",
    "## <center> Program: _Computer Systems Engineering_  </center>\n",
    "---\n",
    "### <center> **Autumn 2025** </center>\n",
    "---\n",
    "\n",
    "**Lab 02**: Bank Account Manager\n",
    "\n",
    "**Date**: 02/09/2025\n",
    "\n",
    "**Student Name**: Juan Bernardo Orozco Quirarte\n",
    "\n",
    "**Professor**: Pablo Camarillo Ramirez, PhD"
   ]
  },
  {
   "cell_type": "markdown",
   "id": "9a8912e1",
   "metadata": {},
   "source": [
    "# Bank Account Manager\n",
    "\n",
    "## Problem Statement\n",
    "1. Create a BankAccount class and add it in your own module (spark/notebooks/lib/<your module>/).\n",
    "2. The class should use a dictionary to store operations (functions) as values and their names (e.g., “deposit”, “withdraw”, “get_balance”) as keys.\n",
    "3. Dynamically select and execute operations based on user input.\n",
    "\n",
    "## Example Usage\n",
    "account = BankAccount(1000)\n",
    "account.process(“deposit”, 13)\n",
    "account.process(“withdraw”, 717)\n",
    "\n",
    "## Key Concepts Tested\n",
    "OOP: Encapsulation, class methods\n",
    "Functional Programming: Storing function pointers in a dictionary\n",
    "Dynamic function execution based on keys"
   ]
  },
  {
   "cell_type": "code",
   "execution_count": 3,
   "id": "1a5ee7d4",
   "metadata": {},
   "outputs": [
    {
     "name": "stdout",
     "output_type": "stream",
     "text": [
      "1000\n"
     ]
    },
    {
     "ename": "TypeError",
     "evalue": "'dict' object is not callable",
     "output_type": "error",
     "traceback": [
      "\u001b[0;31m---------------------------------------------------------------------------\u001b[0m",
      "\u001b[0;31mTypeError\u001b[0m                                 Traceback (most recent call last)",
      "Cell \u001b[0;32mIn[3], line 5\u001b[0m\n\u001b[1;32m      3\u001b[0m account \u001b[38;5;241m=\u001b[39m BankAccount(\u001b[38;5;241m1000\u001b[39m)\n\u001b[1;32m      4\u001b[0m \u001b[38;5;28mprint\u001b[39m(account\u001b[38;5;241m.\u001b[39mbalance)\n\u001b[0;32m----> 5\u001b[0m \u001b[43maccount\u001b[49m\u001b[38;5;241;43m.\u001b[39;49m\u001b[43mprocess\u001b[49m\u001b[43m(\u001b[49m\u001b[38;5;124;43m\"\u001b[39;49m\u001b[38;5;124;43mdeposit\u001b[39;49m\u001b[38;5;124;43m\"\u001b[39;49m\u001b[43m,\u001b[49m\u001b[43m \u001b[49m\u001b[38;5;241;43m13\u001b[39;49m\u001b[43m)\u001b[49m\n\u001b[1;32m      6\u001b[0m \u001b[38;5;28mprint\u001b[39m(account\u001b[38;5;241m.\u001b[39mbalance)\n\u001b[1;32m      7\u001b[0m account\u001b[38;5;241m.\u001b[39mprocess(\u001b[38;5;124m\"\u001b[39m\u001b[38;5;124mwithdraw\u001b[39m\u001b[38;5;124m\"\u001b[39m, \u001b[38;5;241m717\u001b[39m)\n",
      "\u001b[0;31mTypeError\u001b[0m: 'dict' object is not callable"
     ]
    }
   ],
   "source": [
    "from lib.bernardoorozco.utils import BankAccount\n",
    "\n",
    "account = BankAccount(1000)\n",
    "print(account.balance)\n",
    "account.process(\"deposit\", 13)\n",
    "print(account.balance)\n",
    "account.process(\"withdraw\", 717)\n",
    "print(account.balance)"
   ]
  }
 ],
 "metadata": {
  "kernelspec": {
   "display_name": "Python 3 (ipykernel)",
   "language": "python",
   "name": "python3"
  },
  "language_info": {
   "codemirror_mode": {
    "name": "ipython",
    "version": 3
   },
   "file_extension": ".py",
   "mimetype": "text/x-python",
   "name": "python",
   "nbconvert_exporter": "python",
   "pygments_lexer": "ipython3",
   "version": "3.10.12"
  }
 },
 "nbformat": 4,
 "nbformat_minor": 5
}
