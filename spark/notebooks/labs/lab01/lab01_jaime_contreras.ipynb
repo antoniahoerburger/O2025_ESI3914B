{
 "cells": [
  {
   "cell_type": "markdown",
   "id": "b92d9622",
   "metadata": {},
   "source": [
    "# <center> <img src=\"../../img/ITESOLogo.png\" alt=\"ITESO\" width=\"480\" height=\"130\"> </center>\n",
    "# <center> **Departamento de Electrónica, Sistemas e Informática** </center>\n",
    "---\n",
    "## <center> Program: _Add your program's name here_  </center>\n",
    "---\n",
    "### <center> **Autumn 2025** </center>\n",
    "---\n",
    "\n",
    "**Lab XX**:Lab 01\n",
    "\n",
    "**Date**:30/08/2025\n",
    "\n",
    "**Student Name**:Jaime Antonio Contreras Barragan\n",
    "\n",
    "**Professor**: Pablo Camarillo Ramirez "
   ]
  },
  {
   "cell_type": "code",
   "execution_count": 3,
   "id": "78f477f2",
   "metadata": {},
   "outputs": [],
   "source": [
    "plays = [\n",
    "\n",
    "(\"UserA\", \"Song1\"),\n",
    "\n",
    "(\"UserB\", \"Song1\"),\n",
    "\n",
    "(\"UserA\", \"Song2\"),\n",
    "\n",
    "(\"UserA\", \"Song1\"),\n",
    "\n",
    "(\"UserC\", \"Song3\"),\n",
    "\n",
    "(\"UserB\", \"Song2\"),\n",
    "\n",
    "(\"UserD\", \"Song1\"),\n",
    "\n",
    "(\"UserC\", \"Song1\"),\n",
    "\n",
    "(\"UserD\", \"Song3\"),\n",
    "\n",
    "]"
   ]
  },
  {
   "cell_type": "code",
   "execution_count": null,
   "id": "21f93fa1",
   "metadata": {},
   "outputs": [
    {
     "name": "stdout",
     "output_type": "stream",
     "text": [
      "(('UserB', 'Song2'), ('UserA', 'Song2'), ('UserD', 'Song1'), ('UserD', 'Song3'), ('UserB', 'Song1'), ('UserC', 'Song1'), ('UserC', 'Song3'), ('UserA', 'Song1'))\n",
      "Moda múltiple: ['Song1']\n"
     ]
    }
   ],
   "source": [
    "from collections import Counter\n",
    "\n",
    "playset = set(plays)\n",
    "plays = tuple(playset)\n",
    "print(plays)\n",
    "plays \n",
    "lista = [x for element, x in plays]\n",
    "conteo = Counter(lista)\n",
    "moda = conteo.most_common(1)[0][0] \n",
    "print(\"MODA:\", moda)"
   ]
  }
 ],
 "metadata": {
  "kernelspec": {
   "display_name": "Python 3 (ipykernel)",
   "language": "python",
   "name": "python3"
  }
 },
 "nbformat": 4,
 "nbformat_minor": 5
}
