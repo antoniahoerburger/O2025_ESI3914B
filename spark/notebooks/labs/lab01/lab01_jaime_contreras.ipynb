{
 "cells": [
  {
   "cell_type": "markdown",
   "id": "b92d9622",
   "metadata": {},
   "source": [
    "# <center> <img src=\"../../img/ITESOLogo.png\" alt=\"ITESO\" width=\"480\" height=\"130\"> </center>\n",
    "# <center> **Departamento de Electrónica, Sistemas e Informática** </center>\n",
    "---\n",
    "## <center> Program: _Add your program's name here_  </center>\n",
    "---\n",
    "### <center> **Autumn 2025** </center>\n",
    "---\n",
    "\n",
    "**Lab XX**:Lab 01\n",
    "\n",
    "**Date**:30/08/2025\n",
    "\n",
    "**Student Name**:Jaime Antonio Contreras Barragan\n",
    "\n",
    "**Professor**: Pablo Camarillo Ramirez "
   ]
  },
  {
   "cell_type": "code",
   "execution_count": 2,
   "id": "78f477f2",
   "metadata": {},
   "outputs": [],
   "source": [
    "plays = [\n",
    "\n",
    "(\"UserA\", \"Song1\"),\n",
    "\n",
    "(\"UserB\", \"Song1\"),\n",
    "\n",
    "(\"UserA\", \"Song2\"),\n",
    "\n",
    "(\"UserA\", \"Song1\"),\n",
    "\n",
    "(\"UserC\", \"Song3\"),\n",
    "\n",
    "(\"UserB\", \"Song2\"),\n",
    "\n",
    "(\"UserD\", \"Song1\"),\n",
    "\n",
    "(\"UserC\", \"Song1\"),\n",
    "\n",
    "(\"UserD\", \"Song3\"),\n",
    "\n",
    "]"
   ]
  },
  {
   "cell_type": "code",
   "execution_count": 5,
   "id": "21f93fa1",
   "metadata": {},
   "outputs": [
    {
     "name": "stdout",
     "output_type": "stream",
     "text": [
      "MODA: ['Song1']\n",
      "User: UserA, song: Song2\n",
      "User: UserC, song: Song3\n",
      "User: UserB, song: Song1\n",
      "User: UserD, song: Song1\n",
      "User: UserB, song: Song2\n",
      "User: UserD, song: Song3\n",
      "User: UserC, song: Song1\n",
      "User: UserA, song: Song1\n"
     ]
    }
   ],
   "source": [
    "from statistics import multimode\n",
    "\n",
    "playset = set(plays)\n",
    "plays = tuple(playset)\n",
    "plays \n",
    "lista = [x for _, x in plays]\n",
    "moda = multimode(lista)\n",
    "print(\"MODA:\", moda)\n",
    "for user, song in plays:\n",
    "    print(f\"User: {user}, song: {song}\")\n"
   ]
  }
 ],
 "metadata": {
  "kernelspec": {
   "display_name": "Python 3",
   "language": "python",
   "name": "python3"
  },
  "language_info": {
   "codemirror_mode": {
    "name": "ipython",
    "version": 3
   },
   "file_extension": ".py",
   "mimetype": "text/x-python",
   "name": "python",
   "nbconvert_exporter": "python",
   "pygments_lexer": "ipython3",
   "version": "3.13.5"
  }
 },
 "nbformat": 4,
 "nbformat_minor": 5
}
