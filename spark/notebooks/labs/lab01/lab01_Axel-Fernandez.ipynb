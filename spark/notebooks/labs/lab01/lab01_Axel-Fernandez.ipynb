{
 "cells": [
  {
   "cell_type": "markdown",
   "id": "b92d9622",
   "metadata": {},
   "source": [
    "# <center> <img src=\"../../img/ITESOLogo.png\" alt=\"ITESO\" width=\"480\" height=\"130\"> </center>\n",
    "# <center> **Departamento de Electrónica, Sistemas e Informática** </center>\n",
    "---\n",
    "## <center> Program: Procesamientos de datos masivos  </center>\n",
    "---\n",
    "### <center> **Autumn 2025** </center>\n",
    "---\n",
    "\n",
    "**Lab 01**: 1st Lab\n",
    "**Date**: Sep 01, 2025\n",
    "\n",
    "**Student Name**: Axel Leonardo Fernandez Albarran\n",
    "\n",
    "**Professor**: Pablo Camarillo Ramirez "
   ]
  },
  {
   "cell_type": "markdown",
   "id": "871e22c0",
   "metadata": {},
   "source": [
    "## Ingresamos los datos y quitamos los duplicados mediante un Set"
   ]
  },
  {
   "cell_type": "code",
   "execution_count": 55,
   "id": "bbf23a26",
   "metadata": {},
   "outputs": [
    {
     "name": "stdout",
     "output_type": "stream",
     "text": [
      "{('UserC', 'Song3'), ('UserA', 'Song1'), ('UserD', 'Song3'), ('UserB', 'Song2'), ('UserC', 'Song1'), ('UserA', 'Song2'), ('UserD', 'Song1'), ('UserB', 'Song1')}\n"
     ]
    }
   ],
   "source": [
    "plays = [\n",
    "\n",
    "(\"UserA\", \"Song1\"),\n",
    "\n",
    "(\"UserB\", \"Song1\"),\n",
    "\n",
    "(\"UserA\", \"Song2\"),\n",
    "\n",
    "(\"UserA\", \"Song1\"),\n",
    "\n",
    "(\"UserC\", \"Song3\"),\n",
    "\n",
    "(\"UserB\", \"Song2\"),\n",
    "\n",
    "(\"UserD\", \"Song1\"),\n",
    "\n",
    "(\"UserC\", \"Song1\"),\n",
    "\n",
    "(\"UserD\", \"Song3\"),\n",
    "\n",
    "]\n",
    "\n",
    "non_duplicate_plays = set(plays)\n",
    "print(non_duplicate_plays)"
   ]
  },
  {
   "cell_type": "markdown",
   "id": "b9f18610",
   "metadata": {},
   "source": [
    "**Procesamos los datos**\n",
    "\n",
    "Considerando que se ha ha limpiado los duplicados de la lista podemos procesas la lista de reproducciones usando un diccionario para asociar los registros creando usuarios nuevos y en el caso de que sea usuario ya este dentro del diccionario agregamos la cancion unica al usuario.\n",
    "\n",
    "En este caso como se quitan los duplicados no se puede realizar un conteo de cuantas veces usuario X reproducio cancion X determinada numero de veces."
   ]
  },
  {
   "cell_type": "code",
   "execution_count": 56,
   "id": "c4f51018",
   "metadata": {},
   "outputs": [
    {
     "name": "stdout",
     "output_type": "stream",
     "text": [
      "{'userc': {'song3': 1, 'song1': 1}, 'usera': {'song1': 1, 'song2': 1}, 'userd': {'song3': 1, 'song1': 1}, 'userb': {'song2': 1, 'song1': 1}}\n"
     ]
    }
   ],
   "source": [
    "processData = {}\n",
    "\n",
    "for data in non_duplicate_plays:\n",
    "    user, song = data # Extraemos usuario y canción de la tupla dentro del arreglo\n",
    "    user = user.lower() # Convertimos el nombre de usuario a minúsculas\n",
    "    song = song.lower() # Convertimos el nombre de la canción a minúsculas\n",
    "    if user not in processData: # Si no esta el usuario en el diccionario, lo agregamos\n",
    "        processData[user] = {}\n",
    "    if song not in processData[user]: # Si no esta la canción en el diccionario del usuario, la agregamos\n",
    "        processData[user][song] = 0\n",
    "    processData[user][song] += 1 # Incrementamos el contador de reproducciones para la canción del usuario\n",
    "    \n",
    "print(processData)"
   ]
  },
  {
   "cell_type": "markdown",
   "id": "76659aa7",
   "metadata": {},
   "source": [
    "**Encontramos la cancion mas popular del momento**\n",
    "\n"
   ]
  },
  {
   "cell_type": "code",
   "execution_count": null,
   "id": "63665eaa",
   "metadata": {},
   "outputs": [
    {
     "name": "stdout",
     "output_type": "stream",
     "text": [
      "\n",
      "Canción más popular:\n",
      "song1: escuchada por 4 usuarios\n",
      "Oyentes: usera, userc, userd, userb\n"
     ]
    }
   ],
   "source": [
    "# En este caso asociamos las canciones con los usuarios que las escucharon. No es necesario ya que solamente podemos contar los registros de las canciones para arrojar el resultado\n",
    "song_popularity = {}\n",
    "for user, songs in processData.items():\n",
    "    for song in songs:\n",
    "        if song not in song_popularity:\n",
    "            song_popularity[song] = set()\n",
    "        song_popularity[song].add(user)\n",
    "\n",
    "\n",
    "# Encontrar las canciones más populares y guardarlas para imprimir\n",
    "max_popularity = max(len(users) for users in song_popularity.values()) # Encontrar el número máximo de usuarios que escucharon una canción\n",
    "most_popular_songs = [song for song, users in song_popularity.items() if len(users) == max_popularity]\n",
    "\n",
    "print(\"\\nCanción más popular:\")\n",
    "print(f\"{most_popular_songs[0]}: escuchada por {max_popularity} usuarios\")\n",
    "print(f\"Oyentes: {', '.join(song_popularity[most_popular_songs[0]])}\")\n",
    "\n"
   ]
  },
  {
   "cell_type": "code",
   "execution_count": 58,
   "id": "11fe7105",
   "metadata": {},
   "outputs": [
    {
     "name": "stdout",
     "output_type": "stream",
     "text": [
      "User: userc\n",
      "\tsong3: 1 plays\n",
      "\tsong1: 1 plays\n",
      "User: usera\n",
      "\tsong1: 1 plays\n",
      "\tsong2: 1 plays\n",
      "User: userd\n",
      "\tsong3: 1 plays\n",
      "\tsong1: 1 plays\n",
      "User: userb\n",
      "\tsong2: 1 plays\n",
      "\tsong1: 1 plays\n"
     ]
    }
   ],
   "source": [
    "for n in processData:\n",
    "    print(f\"User: {n}\")\n",
    "    for song, count in processData[n].items():\n",
    "        print(f\"\\t{song}: {count} plays\")"
   ]
  }
 ],
 "metadata": {
  "kernelspec": {
   "display_name": "Python 3",
   "language": "python",
   "name": "python3"
  },
  "language_info": {
   "codemirror_mode": {
    "name": "ipython",
    "version": 3
   },
   "file_extension": ".py",
   "mimetype": "text/x-python",
   "name": "python",
   "nbconvert_exporter": "python",
   "pygments_lexer": "ipython3",
   "version": "3.9.6"
  }
 },
 "nbformat": 4,
 "nbformat_minor": 5
}
