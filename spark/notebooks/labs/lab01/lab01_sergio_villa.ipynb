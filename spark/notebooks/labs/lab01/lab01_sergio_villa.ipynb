{
 "cells": [
  {
   "cell_type": "markdown",
   "id": "b92d9622",
   "metadata": {},
   "source": [
    "# <center> <img src=\"../../img/ITESOLogo.png\" alt=\"ITESO\" width=\"480\" height=\"130\"> </center>\n",
    "# <center> **Departamento de Electrónica, Sistemas e Informática** </center>\n",
    "---\n",
    "## <center> Program: _Add your program's name here_  </center>\n",
    "---\n",
    "### <center> **Autumn 2025** </center>\n",
    "---\n",
    "\n",
    "**Lab XX**: 01\n",
    "\n",
    "**Date**: 01/09/2025\n",
    "\n",
    "**Student Name**: Sergio Villa Rodríguez\n",
    "\n",
    "**Professor**: Pablo Camarillo Ramirez "
   ]
  },
  {
   "cell_type": "code",
   "execution_count": 1,
   "id": "c9880dde-82b7-4872-8615-4a4892e9794e",
   "metadata": {},
   "outputs": [],
   "source": [
    "# Canciones\n",
    "plays = [\n",
    "\n",
    "(\"UserA\", \"Song1\"),\n",
    "\n",
    "(\"UserB\", \"Song1\"),\n",
    "\n",
    "(\"UserA\", \"Song2\"),\n",
    "\n",
    "(\"UserA\", \"Song1\"),\n",
    "\n",
    "(\"UserC\", \"Song3\"),\n",
    "\n",
    "(\"UserB\", \"Song2\"),\n",
    "\n",
    "(\"UserD\", \"Song1\"),\n",
    "\n",
    "(\"UserC\", \"Song1\"),\n",
    "\n",
    "(\"UserD\", \"Song3\"),\n",
    "\n",
    "]"
   ]
  },
  {
   "cell_type": "code",
   "execution_count": 5,
   "id": "d1c63195-9afd-4bb7-b530-9341258d9ffe",
   "metadata": {},
   "outputs": [
    {
     "name": "stdout",
     "output_type": "stream",
     "text": [
      "{('UserD', 'Song3'), ('UserD', 'Song1'), ('UserC', 'Song3'), ('UserC', 'Song1'), ('UserA', 'Song1'), ('UserB', 'Song2'), ('UserB', 'Song1'), ('UserA', 'Song2')}\n"
     ]
    }
   ],
   "source": [
    "# Eliminando duplicados\n",
    "unique_plays = set(plays)\n",
    "print(unique_plays)"
   ]
  },
  {
   "cell_type": "code",
   "execution_count": 6,
   "id": "866bf41e-266f-474a-9685-7c869c47a871",
   "metadata": {},
   "outputs": [
    {
     "name": "stdout",
     "output_type": "stream",
     "text": [
      "{'UserD': {'Song1', 'Song3'}, 'UserC': {'Song1', 'Song3'}, 'UserA': {'Song2', 'Song1'}, 'UserB': {'Song2', 'Song1'}}\n"
     ]
    }
   ],
   "source": [
    "# Canciones únicas por usuario\n",
    "user_songs = {}\n",
    "for user, song in unique_plays:\n",
    "    if user not in user_songs:\n",
    "        user_songs[user] = set()\n",
    "    user_songs[user].add(song)\n",
    "\n",
    "print(user_songs)"
   ]
  },
  {
   "cell_type": "code",
   "execution_count": 10,
   "id": "8abf65ef-adfa-4460-8302-fd9b0b111b8e",
   "metadata": {},
   "outputs": [
    {
     "name": "stdout",
     "output_type": "stream",
     "text": [
      "['Song1']\n"
     ]
    }
   ],
   "source": [
    "# Canciones más populares\n",
    "\n",
    "song_count = {}\n",
    "for _, song in unique_plays:\n",
    "    song_count[song] = song_count.get(song, 0) + 1\n",
    "\n",
    "max_count = max(song_count.values())\n",
    "most_popular = [song for song, count in song_count.items() if count == max_count]\n",
    "\n",
    "print(most_popular)"
   ]
  },
  {
   "cell_type": "code",
   "execution_count": null,
   "id": "43eda81d-f0ac-41a8-a3db-67a6b510d02e",
   "metadata": {},
   "outputs": [],
   "source": []
  }
 ],
 "metadata": {
  "kernelspec": {
   "display_name": "Python 3 (ipykernel)",
   "language": "python",
   "name": "python3"
  },
  "language_info": {
   "codemirror_mode": {
    "name": "ipython",
    "version": 3
   },
   "file_extension": ".py",
   "mimetype": "text/x-python",
   "name": "python",
   "nbconvert_exporter": "python",
   "pygments_lexer": "ipython3",
   "version": "3.10.12"
  }
 },
 "nbformat": 4,
 "nbformat_minor": 5
}
