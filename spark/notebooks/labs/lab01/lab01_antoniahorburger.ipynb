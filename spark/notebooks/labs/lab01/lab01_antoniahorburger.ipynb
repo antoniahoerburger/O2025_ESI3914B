{
 "cells": [
  {
   "cell_type": "code",
   "execution_count": 10,
   "id": "10981607-df8f-4900-983c-e5f2987a935f",
   "metadata": {},
   "outputs": [],
   "source": [
    "import pandas as pd"
   ]
  },
  {
   "cell_type": "code",
   "execution_count": 11,
   "id": "9300340b-1320-45e4-bc0a-b47ba778fbfd",
   "metadata": {},
   "outputs": [],
   "source": [
    "plays = [\n",
    "    (\"UserA\", \"Song1\"),\n",
    "    (\"UserB\", \"Song1\"),\n",
    "    (\"UserA\", \"Song2\"),\n",
    "    (\"UserA\", \"Song1\"),\n",
    "    (\"UserC\", \"Song3\"),\n",
    "    (\"UserB\", \"Song2\"),\n",
    "    (\"UserD\", \"Song1\"),\n",
    "    (\"UserC\", \"Song1\"),\n",
    "    (\"UserD\", \"Song3\"),\n",
    "]"
   ]
  },
  {
   "cell_type": "code",
   "execution_count": 12,
   "id": "c09f324f-c47f-4bf1-9eb7-039cde070bce",
   "metadata": {},
   "outputs": [],
   "source": [
    "df = pd.DataFrame(plays, columns=[\"Usuario\", \"Canción\"]).drop_duplicates()"
   ]
  },
  {
   "cell_type": "code",
   "execution_count": 13,
   "id": "1cbcc750-1a4c-4e6e-b2cc-de66ac22cb0e",
   "metadata": {},
   "outputs": [],
   "source": [
    "user_unique_count = df.groupby(\"Usuario\")[\"Canción\"].nunique().reset_index()\n",
    "user_unique_count.rename(columns={\"Canción\": \"ContarCanciones\"}, inplace=True)"
   ]
  },
  {
   "cell_type": "code",
   "execution_count": 14,
   "id": "7b25d0eb-e687-4431-abd5-a6651cc9382e",
   "metadata": {},
   "outputs": [],
   "source": [
    "song_count = df[\"Canción\"].value_counts().reset_index()\n",
    "song_count.columns = [\"Canción\", \"VecesEscuchado\"]\n",
    "max_play_count = song_count[\"VecesEscuchado\"].max()\n",
    "most_popular_songs = song_count[song_count[\"VecesEscuchado\"] == max_play_count]"
   ]
  },
  {
   "cell_type": "code",
   "execution_count": 15,
   "id": "dac8f819-d11e-4a19-a6c7-3f203bd75954",
   "metadata": {},
   "outputs": [
    {
     "name": "stdout",
     "output_type": "stream",
     "text": [
      "Canciones únicas por usuario:\n"
     ]
    },
    {
     "data": {
      "text/html": [
       "<div>\n",
       "<style scoped>\n",
       "    .dataframe tbody tr th:only-of-type {\n",
       "        vertical-align: middle;\n",
       "    }\n",
       "\n",
       "    .dataframe tbody tr th {\n",
       "        vertical-align: top;\n",
       "    }\n",
       "\n",
       "    .dataframe thead th {\n",
       "        text-align: right;\n",
       "    }\n",
       "</style>\n",
       "<table border=\"1\" class=\"dataframe\">\n",
       "  <thead>\n",
       "    <tr style=\"text-align: right;\">\n",
       "      <th></th>\n",
       "      <th>Usuario</th>\n",
       "      <th>ContarCanciones</th>\n",
       "    </tr>\n",
       "  </thead>\n",
       "  <tbody>\n",
       "    <tr>\n",
       "      <th>0</th>\n",
       "      <td>UserA</td>\n",
       "      <td>2</td>\n",
       "    </tr>\n",
       "    <tr>\n",
       "      <th>1</th>\n",
       "      <td>UserB</td>\n",
       "      <td>2</td>\n",
       "    </tr>\n",
       "    <tr>\n",
       "      <th>2</th>\n",
       "      <td>UserC</td>\n",
       "      <td>2</td>\n",
       "    </tr>\n",
       "    <tr>\n",
       "      <th>3</th>\n",
       "      <td>UserD</td>\n",
       "      <td>2</td>\n",
       "    </tr>\n",
       "  </tbody>\n",
       "</table>\n",
       "</div>"
      ],
      "text/plain": [
       "  Usuario  ContarCanciones\n",
       "0   UserA                2\n",
       "1   UserB                2\n",
       "2   UserC                2\n",
       "3   UserD                2"
      ]
     },
     "metadata": {},
     "output_type": "display_data"
    }
   ],
   "source": [
    "print(\"Canciones únicas por usuario:\")\n",
    "display(user_unique_count)"
   ]
  },
  {
   "cell_type": "code",
   "execution_count": 16,
   "id": "cc309975-600e-4661-97c9-9f1d6a1ae3aa",
   "metadata": {},
   "outputs": [
    {
     "name": "stdout",
     "output_type": "stream",
     "text": [
      "\n",
      "Canciones más populares:\n"
     ]
    },
    {
     "data": {
      "text/html": [
       "<div>\n",
       "<style scoped>\n",
       "    .dataframe tbody tr th:only-of-type {\n",
       "        vertical-align: middle;\n",
       "    }\n",
       "\n",
       "    .dataframe tbody tr th {\n",
       "        vertical-align: top;\n",
       "    }\n",
       "\n",
       "    .dataframe thead th {\n",
       "        text-align: right;\n",
       "    }\n",
       "</style>\n",
       "<table border=\"1\" class=\"dataframe\">\n",
       "  <thead>\n",
       "    <tr style=\"text-align: right;\">\n",
       "      <th></th>\n",
       "      <th>Canción</th>\n",
       "      <th>VecesEscuchado</th>\n",
       "    </tr>\n",
       "  </thead>\n",
       "  <tbody>\n",
       "    <tr>\n",
       "      <th>0</th>\n",
       "      <td>Song1</td>\n",
       "      <td>4</td>\n",
       "    </tr>\n",
       "  </tbody>\n",
       "</table>\n",
       "</div>"
      ],
      "text/plain": [
       "  Canción  VecesEscuchado\n",
       "0   Song1               4"
      ]
     },
     "metadata": {},
     "output_type": "display_data"
    }
   ],
   "source": [
    "print(\"\\nCanciones más populares:\")\n",
    "display(most_popular_songs)"
   ]
  }
 ],
 "metadata": {
  "kernelspec": {
   "display_name": "Python 3 (ipykernel)",
   "language": "python",
   "name": "python3"
  },
  "language_info": {
   "codemirror_mode": {
    "name": "ipython",
    "version": 3
   },
   "file_extension": ".py",
   "mimetype": "text/x-python",
   "name": "python",
   "nbconvert_exporter": "python",
   "pygments_lexer": "ipython3",
   "version": "3.12.2"
  }
 },
 "nbformat": 4,
 "nbformat_minor": 5
}
