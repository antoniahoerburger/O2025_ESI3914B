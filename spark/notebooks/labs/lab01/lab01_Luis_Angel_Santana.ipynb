{
 "cells": [
  {
   "cell_type": "markdown",
   "id": "b92d9622",
   "metadata": {},
   "source": [
    "# <center> <img src=\"../../img/ITESOLogo.png\" alt=\"ITESO\" width=\"480\" height=\"130\"> </center>\n",
    "# <center> **Departamento de Electrónica, Sistemas e Informática** </center>\n",
    "---\n",
    "## <center> Program: _Ingenieria en Sistemas Computacionales_  </center>\n",
    "---\n",
    "### <center> **Autumn 2025** </center>\n",
    "---\n",
    "\n",
    "**Lab 01**: Playlist An!lyzer\n",
    "\n",
    "**Date**: Aug 29, 2025\n",
    "\n",
    "**Student Name**: Luis Angel Santana Hernandez\n",
    "\n",
    "**Professor**: Pablo Camarillo Ramirez "
   ]
  },
  {
   "cell_type": "markdown",
   "id": "8a900121",
   "metadata": {},
   "source": [
    "## Instructions\n",
    "---\n",
    "Problem Statement\n",
    "You are given listening data from a music streaming platform.\n",
    "Each user can listen to multiple songs, and each song can be\n",
    "played by multiple users. Your job is to process the data to:\n",
    "\n",
    "1. Store the data using appropriate collections.\n",
    "2. Perform the following operations:\n",
    "    1. Remove duplicate play records.\n",
    "    2. Show how many unique songs each user has listened to.\n",
    "3. Print the most popular song(s).\n"
   ]
  },
  {
   "cell_type": "code",
   "execution_count": 24,
   "id": "0dcea1ba",
   "metadata": {},
   "outputs": [
    {
     "name": "stdout",
     "output_type": "stream",
     "text": [
      "UserA: 3 songs\n",
      "UserB: 3 songs\n",
      "UserC: 3 songs\n",
      "UserD: 3 songs\n",
      "UserE: 5 songs\n",
      "Most played song: Song1 with 5 plays\n"
     ]
    }
   ],
   "source": [
    "plays = [\n",
    "(\"UserA\", \"Song1\"),\n",
    "(\"UserB\", \"Song1\"),\n",
    "(\"UserA\", \"Song2\"),\n",
    "(\"UserA\", \"Song1\"), \n",
    "(\"UserC\", \"Song3\"),\n",
    "(\"UserB\", \"Song2\"),\n",
    "(\"UserD\", \"Song1\"),\n",
    "(\"UserD\", \"Song1\"),\n",
    "(\"UserD\", \"Song1\"),\n",
    "(\"UserD\", \"Song1\"),\n",
    "(\"UserD\", \"Song1\"),\n",
    "(\"UserD\", \"Song1\"),\n",
    "(\"UserD\", \"Song1\"),\n",
    "(\"UserC\", \"Song1\"),\n",
    "(\"UserD\", \"Song3\"),\n",
    "(\"UserE\", \"Song2\"),\n",
    "(\"UserE\", \"Song3\"),\n",
    "(\"UserA\", \"Song3\"),\n",
    "(\"UserB\", \"Song3\"),\n",
    "(\"UserC\", \"Song2\"),\n",
    "(\"UserD\", \"Song2\"),\n",
    "(\"UserE\", \"Song1\"),\n",
    "(\"UserE\", \"Song4\"),\n",
    "(\"UserE\", \"Song5\"),\n",
    "]\n",
    "\n",
    "#Remove duplicates, \n",
    "unique_plays = set(plays)\n",
    "# print(unique_plays)\n",
    "\n",
    "#Count unique songs per user\n",
    "import pandas as pd\n",
    "df = pd.DataFrame(list(unique_plays), columns=['User', 'Song'])\n",
    "user_counts = df.groupby('User')['Song'].count()\n",
    "for user, count in user_counts.items():\n",
    "    print(f\"{user}: {count} songs\")\n",
    "\n",
    "#Most played song\n",
    "song_counts = df.groupby('Song')['User'].count().sort_values(ascending=False)\n",
    "# print(song_counts)\n",
    "\n",
    "print(f\"Most played song: {song_counts.index[0]} with {song_counts.values[0]} plays\")\n",
    "\n"
   ]
  }
 ],
 "metadata": {
  "kernelspec": {
   "display_name": "Python 3",
   "language": "python",
   "name": "python3"
  },
  "language_info": {
   "codemirror_mode": {
    "name": "ipython",
    "version": 3
   },
   "file_extension": ".py",
   "mimetype": "text/x-python",
   "name": "python",
   "nbconvert_exporter": "python",
   "pygments_lexer": "ipython3",
   "version": "3.12.10"
  }
 },
 "nbformat": 4,
 "nbformat_minor": 5
}
