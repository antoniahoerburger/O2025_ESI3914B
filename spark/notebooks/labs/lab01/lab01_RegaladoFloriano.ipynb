{
 "cells": [
  {
   "cell_type": "markdown",
   "id": "b92d9622",
   "metadata": {},
   "source": [
    "# <center> <img src=\"../../img/ITESOLogo.png\" alt=\"ITESO\" width=\"480\" height=\"130\"> </center>\n",
    "# <center> **Departamento de Electrónica, Sistemas e Informática** </center>\n",
    "---\n",
    "## <center> Program: _Add your program's name here_  </center>\n",
    "---\n",
    "### <center> **Autumn 2025** </center>\n",
    "---\n",
    "\n",
    "**Lab XX**: 01\n",
    "\n",
    "**Date**: Friday, 29 August 2025 \n",
    "\n",
    "**Student Name**: Regalado Floriano Luis Alejandro\n",
    "\n",
    "**Professor**: Pablo Camarillo Ramirez "
   ]
  },
  {
   "cell_type": "code",
   "execution_count": 2,
   "id": "528c63b3-5062-475a-b0e6-e278e1220977",
   "metadata": {},
   "outputs": [],
   "source": [
    "from collections import Counter, defaultdict\n"
   ]
  },
  {
   "cell_type": "code",
   "execution_count": 34,
   "id": "ee8533c7-0cdd-4f65-b69c-ef8fca8deb09",
   "metadata": {},
   "outputs": [],
   "source": [
    "class spotiUser:\n",
    "    def __init__(self, name):\n",
    "        self.name = name\n",
    "        self.listenedTo = defaultdict(int)\n",
    "        \n",
    "    def listen(self, songName):\n",
    "        self.listenedTo[songName] += 1\n",
    "        \n",
    "class SpotiFake :\n",
    "    def __init__(self):\n",
    "        self.songs = set()\n",
    "        self.users = {}\n",
    "    def addSong(self, song):\n",
    "        self.songs.add(song)\n",
    "    \n",
    "    def addUsers(self, userName):\n",
    "        if userName not in self.users:\n",
    "            self.users[userName] = spotiUser(userName)\n",
    "        "
   ]
  },
  {
   "cell_type": "code",
   "execution_count": 35,
   "id": "c1dbcedc-63e1-46ed-9dc9-3487f4d2aa51",
   "metadata": {},
   "outputs": [],
   "source": [
    "plays = [\n",
    "(\"UserA\", \"Song1\"),\n",
    "(\"UserB\", \"Song1\"),\n",
    "(\"UserA\", \"Song2\"),\n",
    "(\"UserA\", \"Song1\"), # duplicate\n",
    "(\"UserC\", \"Song3\"),\n",
    "(\"UserB\", \"Song2\"),\n",
    "(\"UserD\", \"Song1\"),\n",
    "(\"UserC\", \"Song1\"),\n",
    "(\"UserD\", \"Song3\"),\n",
    "]"
   ]
  },
  {
   "cell_type": "code",
   "execution_count": 36,
   "id": "90816f9e-15a1-4297-b1d4-bedbed8f28e9",
   "metadata": {},
   "outputs": [],
   "source": [
    "spotifai = SpotiFake()"
   ]
  },
  {
   "cell_type": "code",
   "execution_count": 40,
   "id": "698d54d5-d401-45c2-ab7a-ad71f853c12a",
   "metadata": {},
   "outputs": [],
   "source": [
    "for username, songName in plays:\n",
    "    spotifai.addSong(songName)\n",
    "    spotifai.addUsers(username)\n",
    "    (spotifai.users[username]).listen(songName)\n",
    "    "
   ]
  },
  {
   "cell_type": "code",
   "execution_count": 47,
   "id": "4043ca6b-7d35-4b76-a91d-d5ca1748720d",
   "metadata": {},
   "outputs": [
    {
     "name": "stdout",
     "output_type": "stream",
     "text": [
      "UserA: 2 songs\n",
      "UserB: 2 songs\n",
      "UserC: 2 songs\n",
      "UserD: 2 songs\n"
     ]
    }
   ],
   "source": [
    "for username in spotifai.users.keys():\n",
    "    user = spotifai.users[username]\n",
    "    print(f\"{username}: {len(user.listenedTo)} songs\")"
   ]
  },
  {
   "cell_type": "code",
   "execution_count": null,
   "id": "b186fbe6-2e2d-4da9-acfb-eac8769c4f52",
   "metadata": {},
   "outputs": [],
   "source": []
  }
 ],
 "metadata": {
  "kernelspec": {
   "display_name": "Python 3 (ipykernel)",
   "language": "python",
   "name": "python3"
  },
  "language_info": {
   "codemirror_mode": {
    "name": "ipython",
    "version": 3
   },
   "file_extension": ".py",
   "mimetype": "text/x-python",
   "name": "python",
   "nbconvert_exporter": "python",
   "pygments_lexer": "ipython3",
   "version": "3.10.12"
  }
 },
 "nbformat": 4,
 "nbformat_minor": 5
}
