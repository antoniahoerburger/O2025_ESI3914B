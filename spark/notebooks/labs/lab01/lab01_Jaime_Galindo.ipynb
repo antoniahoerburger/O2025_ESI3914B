{
 "cells": [
  {
   "cell_type": "markdown",
   "id": "b92d9622",
   "metadata": {},
   "source": [
    "# <center> <img src=\"../../img/ITESOLogo.png\" alt=\"ITESO\" width=\"480\" height=\"130\"> </center>\n",
    "# <center> **Departamento de Electrónica, Sistemas e Informática** </center>\n",
    "---\n",
    "## <center> Program: Playlist analyzer  </center>\n",
    "---\n",
    "### <center> **Autumn 2025** </center>\n",
    "---\n",
    "\n",
    "**Lab 01**: Playlist analyzer\n",
    "\n",
    "**Date**: 01/09/25\n",
    "\n",
    "**Student Name**: Jaime Enrique Galindo Villegas\n",
    "\n",
    "**Professor**: Pablo Camarillo Ramirez "
   ]
  },
  {
   "cell_type": "markdown",
   "id": "f6f00c94",
   "metadata": {},
   "source": [
    "## Description\n",
    "You’re given listening data from a music streaming platform. Each user can listen to multiple songs, and each song can be played by multiple users.\n",
    "Your job is to process the data to:\n",
    " \n",
    "\n",
    "1. Remove duplicate play records.\n",
    "2. Track how many unique songs each user has listened to.\n",
    "3. Find the most popular song(s).\n",
    "4. Output results in a structured format.\n",
    "\n",
    "### Input\n",
    "plays = [\n",
    "\n",
    "(\"UserA\", \"Song1\"),\n",
    "\n",
    "(\"UserB\", \"Song1\"),\n",
    "\n",
    "(\"UserA\", \"Song2\"),\n",
    "\n",
    "(\"UserA\", \"Song1\"),\n",
    "\n",
    "(\"UserC\", \"Song3\"),\n",
    "\n",
    "(\"UserB\", \"Song2\"),\n",
    "\n",
    "(\"UserD\", \"Song1\"),\n",
    "\n",
    "(\"UserC\", \"Song1\"),\n",
    "\n",
    "(\"UserD\", \"Song3\"),\n",
    "\n",
    "]"
   ]
  },
  {
   "cell_type": "code",
   "execution_count": 3,
   "id": "a6b5420a",
   "metadata": {},
   "outputs": [
    {
     "name": "stdout",
     "output_type": "stream",
     "text": [
      "[('UserA', 'Song1'), ('UserB', 'Song1'), ('UserA', 'Song2'), ('UserA', 'Song1'), ('UserC', 'Song3'), ('UserB', 'Song2'), ('UserD', 'Song1'), ('UserC', 'Song1'), ('UserD', 'Song3')]\n"
     ]
    }
   ],
   "source": [
    "\n",
    "plays = [\n",
    "(\"UserA\", \"Song1\"),\n",
    "(\"UserB\", \"Song1\"),\n",
    "(\"UserA\", \"Song2\"),\n",
    "(\"UserA\", \"Song1\"),\n",
    "(\"UserC\", \"Song3\"),\n",
    "(\"UserB\", \"Song2\"),\n",
    "(\"UserD\", \"Song1\"),\n",
    "(\"UserC\", \"Song1\"),\n",
    "(\"UserD\", \"Song3\"),\n",
    "]\n",
    "\n",
    "print(plays)"
   ]
  },
  {
   "cell_type": "code",
   "execution_count": 36,
   "id": "2dd11ab8",
   "metadata": {},
   "outputs": [
    {
     "name": "stdout",
     "output_type": "stream",
     "text": [
      "{('UserD', 'Song1'), ('UserC', 'Song3'), ('UserB', 'Song2'), ('UserA', 'Song1'), ('UserC', 'Song1'), ('UserA', 'Song2'), ('UserD', 'Song3'), ('UserB', 'Song1')}\n"
     ]
    }
   ],
   "source": [
    "# 1. Remove duplicate play records.\n",
    "unique_plays = set(plays)\n",
    "print(unique_plays)\n",
    "\n"
   ]
  },
  {
   "cell_type": "code",
   "execution_count": 39,
   "id": "fd0e7a10",
   "metadata": {},
   "outputs": [
    {
     "name": "stdout",
     "output_type": "stream",
     "text": [
      "{'UserD': 2, 'UserC': 2, 'UserB': 2, 'UserA': 2}\n"
     ]
    }
   ],
   "source": [
    "# 2. Track how many unique songs each user has listened to.\n",
    "songs_per_user = {}\n",
    "for user, song in unique_plays:\n",
    "\tif user in songs_per_user:\n",
    "\t\tsongs_per_user[user] += 1\n",
    "\telse:\n",
    "\t\tsongs_per_user[user] = 1\t\n",
    "\n",
    "print(songs_per_user)"
   ]
  },
  {
   "cell_type": "code",
   "execution_count": 40,
   "id": "8f1b9af0",
   "metadata": {},
   "outputs": [
    {
     "name": "stdout",
     "output_type": "stream",
     "text": [
      "[['Song1', 4]]\n"
     ]
    }
   ],
   "source": [
    "# 3. Find the most popular song(s).\n",
    "listenersPerSong = {}\n",
    "for user, song in unique_plays:\n",
    "\tif song in listenersPerSong:\n",
    "\t\tlistenersPerSong[song] += 1\n",
    "\telse:\n",
    "\t\tlistenersPerSong[song] = 1\n",
    "\t\n",
    "maxCount = max(listenersPerSong.values())\n",
    "mostPopularSongs = [[song, count] for song, count in listenersPerSong.items() if count == maxCount]\n",
    "\n",
    "print(mostPopularSongs)"
   ]
  },
  {
   "cell_type": "code",
   "execution_count": 35,
   "id": "7772cc88",
   "metadata": {},
   "outputs": [
    {
     "name": "stdout",
     "output_type": "stream",
     "text": [
      "Values whithout duplicates: \n",
      "UserD: Song1\n",
      "UserC: Song3\n",
      "UserB: Song2\n",
      "UserA: Song1\n",
      "UserC: Song1\n",
      "UserA: Song2\n",
      "UserD: Song3\n",
      "UserB: Song1\n",
      "\n",
      "How many unique songs each user has listened to: \n",
      "UserD: 2\n",
      "UserC: 2\n",
      "UserB: 2\n",
      "UserA: 2\n",
      "\n",
      "The most popular song(s):\n",
      "Song1 with 4 listeners\n"
     ]
    }
   ],
   "source": [
    "# 4. Output results in a structured format.\n",
    "print(\"Values whithout duplicates: \")\n",
    "for user, song in unique_plays:\n",
    "   print(f\"{user}: {song}\")\n",
    "   \n",
    "print(\"\\nHow many unique songs each user has listened to: \")\n",
    "for user, count in songs_per_user.items():\n",
    "\tprint(f\"{user}: {count}\")\n",
    "      \n",
    "print(\"\\nThe most popular song(s):\")\n",
    "for song, count in mostPopularSongs:\n",
    "   print(f\"{song} with {count} listeners\")\n",
    "\t\n"
   ]
  },
  {
   "cell_type": "code",
   "execution_count": null,
   "id": "8094d9e4",
   "metadata": {},
   "outputs": [],
   "source": []
  }
 ],
 "metadata": {
  "kernelspec": {
   "display_name": "Python 3",
   "language": "python",
   "name": "python3"
  },
  "language_info": {
   "codemirror_mode": {
    "name": "ipython",
    "version": 3
   },
   "file_extension": ".py",
   "mimetype": "text/x-python",
   "name": "python",
   "nbconvert_exporter": "python",
   "pygments_lexer": "ipython3",
   "version": "3.13.7"
  }
 },
 "nbformat": 4,
 "nbformat_minor": 5
}
