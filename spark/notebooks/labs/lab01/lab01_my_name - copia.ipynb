{
 "cells": [
  {
   "cell_type": "markdown",
   "id": "b92d9622",
   "metadata": {},
   "source": [
    "# <center> <img src=\"../../img/ITESOLogo.png\" alt=\"ITESO\" width=\"480\" height=\"130\"> </center>\n",
    "# <center> **Departamento de Electrónica, Sistemas e Informática** </center>\n",
    "---\n",
    "## <center> Program: _Add your program's name here_  </center>\n",
    "---\n",
    "### <center> **Autumn 2025** </center>\n",
    "---\n",
    "\n",
    "**Lab XX**:01\n",
    "\n",
    "**Date**: 29/08\n",
    "\n",
    "**Student Name**: Carlos Eduardo Chihenseck Blanco\n",
    "\n",
    "**Professor**: Pablo Camarillo Ramirez "
   ]
  },
  {
   "cell_type": "code",
   "execution_count": 2,
   "id": "7d622899",
   "metadata": {},
   "outputs": [],
   "source": [
    "plays = [\n",
    "\n",
    "(\"UserA\", \"Song1\"),\n",
    "\n",
    "(\"UserB\", \"Song1\"),\n",
    "\n",
    "(\"UserA\", \"Song2\"),\n",
    "\n",
    "(\"UserA\", \"Song1\"),\n",
    "\n",
    "(\"UserC\", \"Song3\"),\n",
    "\n",
    "(\"UserB\", \"Song2\"),\n",
    "\n",
    "(\"UserD\", \"Song1\"),\n",
    "\n",
    "(\"UserC\", \"Song1\"),\n",
    "\n",
    "(\"UserD\", \"Song3\"),\n",
    "\n",
    "]"
   ]
  },
  {
   "cell_type": "code",
   "execution_count": null,
   "metadata": {},
   "outputs": [
    {
     "name": "stdout",
     "output_type": "stream",
     "text": [
      "{('UserB', 'Song1'), ('UserB', 'Song2'), ('UserC', 'Song1'), ('UserD', 'Song1'), ('UserA', 'Song1'), ('UserA', 'Song2'), ('UserC', 'Song3'), ('UserD', 'Song3')}\n"
     ]
    }
   ],
   "source": [
    "uniqueplays=set(plays)\n",
    "print(uniqueplays)"
   ]
  },
  {
   "cell_type": "code",
   "execution_count": 10,
   "id": "2c2bbc0c",
   "metadata": {},
   "outputs": [
    {
     "name": "stdout",
     "output_type": "stream",
     "text": [
      "{'UserB': 2, 'UserC': 2, 'UserD': 2, 'UserA': 2}\n"
     ]
    }
   ],
   "source": [
    "from collections import Counter\n",
    "songperuser=Counter(user for user, _ in uniqueplays)\n",
    "print(dict(songperuser))"
   ]
  },
  {
   "cell_type": "code",
   "execution_count": 12,
   "id": "b9610302",
   "metadata": {},
   "outputs": [
    {
     "name": "stdout",
     "output_type": "stream",
     "text": [
      "{'Song1': 4, 'Song2': 2, 'Song3': 2}\n"
     ]
    }
   ],
   "source": [
    "songpopularity=Counter(song for _, song in uniqueplays)\n",
    "print(dict(songpopularity))"
   ]
  }
 ],
 "metadata": {
  "kernelspec": {
   "display_name": "Python 3 (ipykernel)",
   "language": "python",
   "name": "python3"
  },
  "language_info": {
   "codemirror_mode": {
    "name": "ipython",
    "version": 3
   },
   "file_extension": ".py",
   "mimetype": "text/x-python",
   "name": "python",
   "nbconvert_exporter": "python",
   "pygments_lexer": "ipython3",
   "version": "3.10.12"
  }
 },
 "nbformat": 4,
 "nbformat_minor": 5
}
