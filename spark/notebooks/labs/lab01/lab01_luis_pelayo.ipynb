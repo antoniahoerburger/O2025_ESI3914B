{
 "cells": [
  {
   "cell_type": "markdown",
   "id": "b92d9622",
   "metadata": {},
   "source": [
    "# <center> <img src=\"../../img/ITESOLogo.png\" alt=\"ITESO\" width=\"480\" height=\"130\"> </center>\n",
    "# <center> **Departamento de Electrónica, Sistemas e Informática** </center>\n",
    "---\n",
    "## <center> Program: _Ingenieria en sistemas computacionales_  </center>\n",
    "---\n",
    "### <center> **Autumn 2025** </center>\n",
    "---\n",
    "\n",
    "**Lab 01**:\n",
    "\n",
    "**Date**: 01/09/2025\n",
    "\n",
    "**Student Name**: Luis Antonio Pelayo Sierra\n",
    "\n",
    "**Professor**: Pablo Camarillo Ramirez "
   ]
  },
  {
   "cell_type": "code",
   "execution_count": 1,
   "id": "2dc49399",
   "metadata": {},
   "outputs": [],
   "source": [
    "datos = [\n",
    "    (\"UserA\", \"Song1\"),\n",
    "    (\"UserB\", \"Song1\"),\n",
    "    (\"UserA\", \"Song2\"),\n",
    "    (\"UserA\", \"Song1\"),  \n",
    "    (\"UserC\", \"Song3\"),\n",
    "    (\"UserB\", \"Song2\"),\n",
    "    (\"UserD\", \"Song1\"),\n",
    "    (\"UserC\", \"Song1\"),\n",
    "    (\"UserD\", \"Song3\"),\n",
    "]"
   ]
  },
  {
   "cell_type": "code",
   "execution_count": 2,
   "id": "ec8cdc7d",
   "metadata": {},
   "outputs": [
    {
     "name": "stdout",
     "output_type": "stream",
     "text": [
      "{('UserD', 'Song1'), ('UserC', 'Song3'), ('UserB', 'Song2'), ('UserB', 'Song1'), ('UserD', 'Song3'), ('UserC', 'Song1'), ('UserA', 'Song1'), ('UserA', 'Song2')}\n"
     ]
    }
   ],
   "source": [
    "# Quitar Duplicados\n",
    "datosLimpios = set(datos)\n",
    "print(datosLimpios)"
   ]
  },
  {
   "cell_type": "code",
   "execution_count": null,
   "id": "ecd88921",
   "metadata": {},
   "outputs": [
    {
     "name": "stdout",
     "output_type": "stream",
     "text": [
      "{'UserD': {'Song1', 'Song3'}, 'UserC': {'Song1', 'Song3'}, 'UserB': {'Song1', 'Song2'}, 'UserA': {'Song1', 'Song2'}}\n",
      "{'UserD': 2, 'UserC': 2, 'UserB': 2, 'UserA': 2}\n"
     ]
    }
   ],
   "source": [
    "# Canciones de usuario\n",
    "cancionesUsuario = {}\n",
    "for usuario, cancion in datosLimpios:\n",
    "    cancionesUsuario.setdefault(usuario, set()).add(cancion)\n",
    "print(cancionesUsuario)\n",
    "\n",
    "# Contar canciones por usuario\n",
    "cancionesPorUsuario = {usuario: len(canciones) for usuario, canciones in cancionesUsuario.items()}\n",
    "print(cancionesPorUsuario)"
   ]
  },
  {
   "cell_type": "code",
   "execution_count": 6,
   "id": "46f475ad",
   "metadata": {},
   "outputs": [
    {
     "name": "stdout",
     "output_type": "stream",
     "text": [
      "{'Song1': 4, 'Song3': 2, 'Song2': 2}\n",
      "[('Song1', 4), ('Song3', 2), ('Song2', 2)]\n"
     ]
    }
   ],
   "source": [
    "# Conteo de popularidad\n",
    "cancionesPopularidad = {}\n",
    "for usuario, canciones in cancionesUsuario.items():\n",
    "    for cancion in canciones:\n",
    "        cancionesPopularidad[cancion] = cancionesPopularidad.get(cancion, 0) + 1\n",
    "print(cancionesPopularidad)\n",
    "\n",
    "# Canciones mas reproducidas\n",
    "cancionesOrdenadas = sorted(cancionesPopularidad.items(), key=lambda x: x[1], reverse=True)\n",
    "print(cancionesOrdenadas)"
   ]
  },
  {
   "cell_type": "code",
   "execution_count": 9,
   "id": "e6bc3f31",
   "metadata": {},
   "outputs": [
    {
     "name": "stdout",
     "output_type": "stream",
     "text": [
      "{'Reproducciones por usuario': [('UserD', 'Song1'), ('UserC', 'Song3'), ('UserB', 'Song2'), ('UserB', 'Song1'), ('UserD', 'Song3'), ('UserC', 'Song1'), ('UserA', 'Song1'), ('UserA', 'Song2')], 'Conteos por usuario': {'UserD': 2, 'UserC': 2, 'UserB': 2, 'UserA': 2}, 'Canciones mas populares': [('Song1', 4), ('Song3', 2), ('Song2', 2)]}\n"
     ]
    }
   ],
   "source": [
    "# Impresion estructurada\n",
    "resultados = {\n",
    "        \"Reproducciones por usuario\": list(datosLimpios),\n",
    "        \"Conteos por usuario\": cancionesPorUsuario,\n",
    "        \"Canciones mas populares\": cancionesOrdenadas\n",
    "    }\n",
    "print(resultados)"
   ]
  }
 ],
 "metadata": {
  "kernelspec": {
   "display_name": "Python 3",
   "language": "python",
   "name": "python3"
  },
  "language_info": {
   "codemirror_mode": {
    "name": "ipython",
    "version": 3
   },
   "file_extension": ".py",
   "mimetype": "text/x-python",
   "name": "python",
   "nbconvert_exporter": "python",
   "pygments_lexer": "ipython3",
   "version": "3.10.11"
  }
 },
 "nbformat": 4,
 "nbformat_minor": 5
}
