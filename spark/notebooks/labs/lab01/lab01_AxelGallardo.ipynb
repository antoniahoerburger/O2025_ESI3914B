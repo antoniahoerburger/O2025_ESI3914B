{
 "cells": [
  {
   "cell_type": "markdown",
   "id": "b92d9622",
   "metadata": {},
   "source": [
    "# <center> <img src=\"../../img/ITESOLogo.png\" alt=\"ITESO\" width=\"480\" height=\"130\"> </center>\n",
    "# <center> **Departamento de Electrónica, Sistemas e Informática** </center>\n",
    "---\n",
    "## <center> Program: _procesamiento de datos masivos_  </center>\n",
    "---\n",
    "### <center> **Autumn 2025** </center>\n",
    "---\n",
    "\n",
    "**Lab 01**\n",
    "\n",
    "**Date**: 02/09/2025\n",
    "\n",
    "**Student Name**:Axel Gallardo\n",
    "\n",
    "**Professor**: Pablo Camarillo Ramirez "
   ]
  },
  {
   "cell_type": "markdown",
   "id": "304af6f7",
   "metadata": {},
   "source": [
    "Entrada de datos"
   ]
  },
  {
   "cell_type": "code",
   "execution_count": 1,
   "id": "5a422d68",
   "metadata": {},
   "outputs": [],
   "source": [
    "plays = [\n",
    "    (\"UserA\", \"Song1\"),\n",
    "    (\"UserB\", \"Song1\"),\n",
    "    (\"UserA\", \"Song2\"),\n",
    "    (\"UserA\", \"Song1\"),\n",
    "    (\"UserC\", \"Song3\"),\n",
    "    (\"UserB\", \"Song2\"),\n",
    "    (\"UserD\", \"Song1\"),\n",
    "    (\"UserC\", \"Song1\"),\n",
    "    (\"UserD\", \"Song3\"),\n",
    "]"
   ]
  },
  {
   "cell_type": "markdown",
   "id": "3df60ffe",
   "metadata": {},
   "source": [
    "Eliminar duplicados"
   ]
  },
  {
   "cell_type": "code",
   "execution_count": 2,
   "id": "f1de5ac0",
   "metadata": {},
   "outputs": [
    {
     "data": {
      "text/plain": [
       "[('UserD', 'Song1'),\n",
       " ('UserA', 'Song1'),\n",
       " ('UserB', 'Song1'),\n",
       " ('UserC', 'Song3'),\n",
       " ('UserC', 'Song1'),\n",
       " ('UserA', 'Song2'),\n",
       " ('UserD', 'Song3'),\n",
       " ('UserB', 'Song2')]"
      ]
     },
     "execution_count": 2,
     "metadata": {},
     "output_type": "execute_result"
    }
   ],
   "source": [
    "plays_unico = list(set(plays))\n",
    "plays_unico"
   ]
  },
  {
   "cell_type": "markdown",
   "id": "68692db0",
   "metadata": {},
   "source": [
    "Conteo de canciones unicas"
   ]
  },
  {
   "cell_type": "code",
   "execution_count": 3,
   "id": "c3edfafd",
   "metadata": {},
   "outputs": [
    {
     "name": "stdout",
     "output_type": "stream",
     "text": [
      "UserA escuchó 2 canciones únicas: {'Song1', 'Song2'}\n",
      "UserB escuchó 2 canciones únicas: {'Song1', 'Song2'}\n",
      "UserC escuchó 2 canciones únicas: {'Song1', 'Song3'}\n",
      "UserD escuchó 2 canciones únicas: {'Song1', 'Song3'}\n"
     ]
    }
   ],
   "source": [
    "usuarios = set(user for user, _ in plays_unico)\n",
    "for usuario in usuarios:\n",
    "    canciones = {song for u, song in plays_unico if u == usuario}\n",
    "    print(f\"{usuario} escuchó {len(canciones)} canciones únicas: {canciones}\")"
   ]
  },
  {
   "cell_type": "markdown",
   "id": "cfd67c3f",
   "metadata": {},
   "source": [
    "Popularidad de canciones"
   ]
  },
  {
   "cell_type": "code",
   "execution_count": 4,
   "id": "d18060e2",
   "metadata": {},
   "outputs": [
    {
     "data": {
      "text/plain": [
       "(Counter({'Song1': 4, 'Song3': 2, 'Song2': 2}), ['Song1'])"
      ]
     },
     "execution_count": 4,
     "metadata": {},
     "output_type": "execute_result"
    }
   ],
   "source": [
    "from collections import Counter\n",
    "\n",
    "song_counts = Counter(song for _, song in plays_unico)\n",
    "\n",
    "max_count = max(song_counts.values())\n",
    "\n",
    "most_popular_songs = [song for song, count in song_counts.items() if count == max_count]\n",
    "\n",
    "song_counts, most_popular_songs\n"
   ]
  },
  {
   "cell_type": "markdown",
   "id": "5d4453dd",
   "metadata": {},
   "source": [
    "Resultados"
   ]
  },
  {
   "cell_type": "code",
   "execution_count": 6,
   "id": "5ff0eb51",
   "metadata": {},
   "outputs": [
    {
     "name": "stdout",
     "output_type": "stream",
     "text": [
      "Canciones escuchadas por usuario:\n",
      " - UserA: 2 canciones únicas\n",
      " - UserB: 2 canciones únicas\n",
      " - UserC: 2 canciones únicas\n",
      " - UserD: 2 canciones únicas\n",
      "\n",
      "Canción(es) más popular(es):\n",
      " - Song1 (escuchada por 4 usuarios)\n"
     ]
    }
   ],
   "source": [
    "print(\"Canciones escuchadas por usuario:\")\n",
    "\n",
    "usuarios = set(user for user, _ in plays_unico)\n",
    "\n",
    "for usuario in usuarios:\n",
    "    canciones = {song for u, song in plays_unico if u == usuario}\n",
    "    print(f\" - {usuario}: {len(canciones)} canciones únicas\")\n",
    "\n",
    "\n",
    "print(\"\\nCanción(es) más popular(es):\")\n",
    "for song in most_popular_songs:\n",
    "    print(f\" - {song} (escuchada por {song_counts[song]} usuarios)\")"
   ]
  }
 ],
 "metadata": {
  "kernelspec": {
   "display_name": "Python 3",
   "language": "python",
   "name": "python3"
  },
  "language_info": {
   "codemirror_mode": {
    "name": "ipython",
    "version": 3
   },
   "file_extension": ".py",
   "mimetype": "text/x-python",
   "name": "python",
   "nbconvert_exporter": "python",
   "pygments_lexer": "ipython3",
   "version": "3.13.7"
  }
 },
 "nbformat": 4,
 "nbformat_minor": 5
}
