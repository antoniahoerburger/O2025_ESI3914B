{
 "cells": [
  {
   "cell_type": "markdown",
   "id": "80bcd4d9",
   "metadata": {},
   "source": [
    "# Lab 01: Playlist analyzer\n",
    "By Carolina Arellano\n",
    "\n",
    "## Description\n",
    "You’re given listening data from a music streaming platform. Each user can listen to multiple songs, and each song can be played by multiple users.\n",
    "Your job is to process the data to: \n",
    "\n",
    "1. Remove duplicate play records.\n",
    "2. Track how many unique songs each user has listened to.\n",
    "3. Find the most popular song(s).\n",
    "4. Output results in a structured format.\n",
    "\n",
    "### Input:\n",
    "plays = [\n",
    "    (\"UserA\", \"Song1\"),\n",
    "    (\"UserB\", \"Song1\"),\n",
    "    (\"UserA\", \"Song2\"),\n",
    "    (\"UserA\", \"Song1\"),\n",
    "    (\"UserC\", \"Song3\"),\n",
    "    (\"UserB\", \"Song2\"),\n",
    "    (\"UserD\", \"Song1\"),\n",
    "    (\"UserC\", \"Song1\"),\n",
    "    (\"UserD\", \"Song3\"),\n",
    "]\n"
   ]
  },
  {
   "cell_type": "code",
   "execution_count": null,
   "id": "b6eb4d83",
   "metadata": {},
   "outputs": [
    {
     "name": "stdout",
     "output_type": "stream",
     "text": [
      "1. Unique play records\n",
      "   UserB played Song1.\n",
      "   UserC played Song1.\n",
      "   UserD played Song3.\n",
      "   UserA played Song2.\n",
      "   UserC played Song3.\n",
      "   UserA played Song1.\n",
      "   UserD played Song1.\n",
      "   UserB played Song2.\n",
      "\n",
      "Each user listened to\n",
      "   UserB listened to 2 unique songs: Song2, Song1\n",
      "   UserC listened to 2 unique songs: Song3, Song1\n",
      "   UserD listened to 2 unique songs: Song3, Song1\n",
      "   UserA listened to 2 unique songs: Song2, Song1\n",
      "\n",
      "3. Most popular song\n",
      "   The Song1 was played 4 times.\n"
     ]
    }
   ],
   "source": [
    "from collections import Counter\n",
    "\n",
    "plays = [\n",
    "    (\"UserA\", \"Song1\"),\n",
    "    (\"UserB\", \"Song1\"),\n",
    "    (\"UserA\", \"Song2\"),\n",
    "    (\"UserA\", \"Song1\"),\n",
    "    (\"UserC\", \"Song3\"),\n",
    "    (\"UserB\", \"Song2\"),\n",
    "    (\"UserD\", \"Song1\"),\n",
    "    (\"UserC\", \"Song1\"),\n",
    "    (\"UserD\", \"Song3\"),\n",
    "]\n",
    "\n",
    "# Removed duplicate records\n",
    "unique_play_records = set(plays)\n",
    "print(\"1. Unique play records\")\n",
    "for record in unique_play_records:\n",
    "    print(f\"   {record[0]} played {record[1]}.\")\n",
    "\n",
    "# Track how many unique songs each user has listened to\n",
    "user_song_count = {}\n",
    "for user, song in unique_play_records:\n",
    "    if user not in user_song_count:\n",
    "        user_song_count[user] = set()\n",
    "    user_song_count[user].add(song)\n",
    "\n",
    "print(\"\\nEach user listened to\")\n",
    "for user, songs in user_song_count.items():\n",
    "    print(f\"   {user} listened to {len(songs)} unique songs: {', '.join(songs)}\")\n",
    "\n",
    "# Got the count of plays for each song\n",
    "song_popularity = Counter()\n",
    "for user, songs in user_song_count.items():\n",
    "    song_popularity.update(songs)\n",
    "\n",
    "# Sorted the songs by popularity so I can get the most popular one\n",
    "sorted_songs = sorted(song_popularity.items(), key=lambda x: x[1], reverse=True)\n",
    "\n",
    "print(\"\\n3. Most popular song\")\n",
    "if sorted_songs:\n",
    "    song, count = sorted_songs[0]\n",
    "    print(f\"   The {song} was played {count} times.\")\n"
   ]
  }
 ],
 "metadata": {
  "kernelspec": {
   "display_name": "Python 3",
   "language": "python",
   "name": "python3"
  },
  "language_info": {
   "codemirror_mode": {
    "name": "ipython",
    "version": 3
   },
   "file_extension": ".py",
   "mimetype": "text/x-python",
   "name": "python",
   "nbconvert_exporter": "python",
   "pygments_lexer": "ipython3",
   "version": "3.11.9"
  }
 },
 "nbformat": 4,
 "nbformat_minor": 5
}
