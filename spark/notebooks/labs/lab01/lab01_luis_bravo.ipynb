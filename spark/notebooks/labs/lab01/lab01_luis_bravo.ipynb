{
 "cells": [
  {
   "cell_type": "markdown",
   "id": "95269a78",
   "metadata": {},
   "source": [
    "# <center> <img src=\"../../img/ITESOLogo.png\" alt=\"ITESO\" width=\"480\" height=\"130\"> </center>\n",
    "# <center> **Departamento de Electrónica, Sistemas e Informática** </center>\n",
    "---\n",
    "## <center> Program: _Add your program's name here_  </center>\n",
    "---\n",
    "### <center> **Autumn 2025** </center>\n",
    "---\n",
    "\n",
    "**Lab 01**: Playlist analyzer\n",
    "\n",
    "**Date**: 29/08/2025\n",
    "\n",
    "**Student Name**: Luis Adrian Bravo Ramirez\n",
    "\n",
    "**Professor**: Pablo Camarillo Ramirez "
   ]
  },
  {
   "cell_type": "markdown",
   "id": "07bc5442",
   "metadata": {},
   "source": [
    "---\n",
    "\n",
    "# Lab 01: Playlist analyzer Description\n",
    "You’re given listening data from a music streaming platform. Each user can listen to multiple songs, and each song can be played by multiple users.\n",
    "Your job is to process the data to:\n",
    "\n",
    "1. Remove duplicate play records.\n",
    "2. Track how many unique songs each user has listened to.\n",
    "3. Find the most popular song(s).\n",
    "4. Output results in a structured format.\n"
   ]
  },
  {
   "cell_type": "markdown",
   "id": "99b9a5c2",
   "metadata": {},
   "source": [
    "## Input\n",
    "This is the input that we'll use. \n",
    "It is a _List_ that contains a _Tuple_ with two elements (USER, SONG)."
   ]
  },
  {
   "cell_type": "code",
   "execution_count": 29,
   "id": "f7e5f4f6",
   "metadata": {},
   "outputs": [
    {
     "name": "stdout",
     "output_type": "stream",
     "text": [
      "Length of plays before deleting duplicates: 9\n"
     ]
    },
    {
     "data": {
      "text/plain": [
       "[('UserA', 'Song1'),\n",
       " ('UserB', 'Song1'),\n",
       " ('UserA', 'Song2'),\n",
       " ('UserA', 'Song1'),\n",
       " ('UserC', 'Song3'),\n",
       " ('UserB', 'Song2'),\n",
       " ('UserD', 'Song1'),\n",
       " ('UserC', 'Song1'),\n",
       " ('UserD', 'Song3')]"
      ]
     },
     "metadata": {},
     "output_type": "display_data"
    }
   ],
   "source": [
    "plays = [\n",
    "    (\"UserA\", \"Song1\"),\n",
    "    (\"UserB\", \"Song1\"),\n",
    "    (\"UserA\", \"Song2\"),\n",
    "    (\"UserA\", \"Song1\"),\n",
    "    (\"UserC\", \"Song3\"),\n",
    "    (\"UserB\", \"Song2\"),\n",
    "    (\"UserD\", \"Song1\"),\n",
    "    (\"UserC\", \"Song1\"),\n",
    "    (\"UserD\", \"Song3\"),\n",
    "]\n",
    "\n",
    "print(f\"Length of plays before deleting duplicates: {len(plays)}\")\n",
    "display(plays)\n"
   ]
  },
  {
   "cell_type": "markdown",
   "id": "7e4ee864",
   "metadata": {},
   "source": [
    "## 1. Remove duplicate play records\n",
    "The first step is to eliminate duplicate records on the dataset."
   ]
  },
  {
   "cell_type": "code",
   "execution_count": null,
   "id": "6a7b8366",
   "metadata": {},
   "outputs": [
    {
     "name": "stdout",
     "output_type": "stream",
     "text": [
      "Length of plays after deleting duplicates: 8\n",
      "Plays list:\n"
     ]
    },
    {
     "data": {
      "text/plain": [
       "{('UserA', 'Song1'),\n",
       " ('UserA', 'Song2'),\n",
       " ('UserB', 'Song1'),\n",
       " ('UserB', 'Song2'),\n",
       " ('UserC', 'Song1'),\n",
       " ('UserC', 'Song3'),\n",
       " ('UserD', 'Song1'),\n",
       " ('UserD', 'Song3')}"
      ]
     },
     "metadata": {},
     "output_type": "display_data"
    }
   ],
   "source": [
    "# Convert the list to a set (eliminates automatically duplicates because sets only allow unique values)\n",
    "plays = set(plays)\n",
    "\n",
    "print(f\"Length of plays after deleting duplicates: {len(plays)}\") # Result is 8. One record deleted. \n",
    "display(plays)    # Print the "
   ]
  },
  {
   "cell_type": "markdown",
   "id": "4750416a",
   "metadata": {},
   "source": [
    "## 2. Track how many unique songs each user has listened to. \n",
    "Now, I'll calculate how many uniques songs has every unique user listened to. For this specific case, each user listened to **2** songs."
   ]
  },
  {
   "cell_type": "code",
   "execution_count": 31,
   "id": "3d533418",
   "metadata": {},
   "outputs": [
    {
     "name": "stdout",
     "output_type": "stream",
     "text": [
      "UserA: 2\n",
      "UserB: 2\n",
      "UserC: 2\n",
      "UserD: 2\n"
     ]
    }
   ],
   "source": [
    "# Use a dictionary to get all the songs (value) per user (key)\n",
    "songs_per_user = {}\n",
    "\n",
    "# Iterate through every (USER, SONG) pair\n",
    "for user, song in plays:\n",
    "    # Save on a dictionary, the user as key and a set of the songs each user listened to\n",
    "    songs_per_user[user] = songs_per_user.get(user, set()) # If key does not exist, create an empty set here\n",
    "    songs_per_user[user].add(song) # Add the song to that user\n",
    "\n",
    "# Print the quantity of unique songs per user\n",
    "for user, songs_set in songs_per_user.items():\n",
    "    print(f\"{user}: {len(songs_set)}\")  "
   ]
  },
  {
   "cell_type": "markdown",
   "id": "c2c02b1b",
   "metadata": {},
   "source": [
    "## 3. Find the most popular (songs)\n",
    "Finally, I'll get the top 3 most popular songs on the whole plays list. "
   ]
  },
  {
   "cell_type": "code",
   "execution_count": 32,
   "id": "b15f25e3",
   "metadata": {},
   "outputs": [
    {
     "name": "stdout",
     "output_type": "stream",
     "text": [
      "Song1: 4 users\n",
      "Song2: 2 users\n",
      "Song3: 2 users\n"
     ]
    }
   ],
   "source": [
    "# Use a dictionary to count every occurence for each song\n",
    "popular_songs = {}\n",
    "\n",
    "# Iterate through every (USER, SONG) pair\n",
    "for user, song in plays:\n",
    "    # If song is not a key, default value 0 + 1, if it exists, just add 1 to the current value\n",
    "    popular_songs[song] = popular_songs.get(song, 0) + 1\n",
    "\n",
    "\n",
    "# Sort the dictionary from MOST ocurrences to LESS\n",
    "sorted_songs = sorted(popular_songs.items(), key=lambda item: item[1], reverse=True) # Use a lambda to get the ocurrences [1] for every song and sort it\n",
    "\n",
    "# Print the top 3 most popular songs\n",
    "for song, ocurrence in sorted_songs[:3]:\n",
    "    print(f\"{song}: {ocurrence} users\")"
   ]
  }
 ],
 "metadata": {
  "kernelspec": {
   "display_name": "Python 3 (ipykernel)",
   "language": "python",
   "name": "python3"
  },
  "language_info": {
   "codemirror_mode": {
    "name": "ipython",
    "version": 3
   },
   "file_extension": ".py",
   "mimetype": "text/x-python",
   "name": "python",
   "nbconvert_exporter": "python",
   "pygments_lexer": "ipython3",
   "version": "3.10.12"
  }
 },
 "nbformat": 4,
 "nbformat_minor": 5
}
