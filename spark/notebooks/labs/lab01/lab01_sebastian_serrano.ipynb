{
 "cells": [
  {
   "cell_type": "markdown",
   "id": "b92d9622",
   "metadata": {},
   "source": [
    "# <center> <img src=\"../../img/ITESOLogo.png\" alt=\"ITESO\" width=\"480\" height=\"130\"> </center>\n",
    "# <center> **Departamento de Electrónica, Sistemas e Informática** </center>\n",
    "---\n",
    "## <center> Program: Semestral  </center>\n",
    "---\n",
    "### <center> **Otoño 2025** </center>\n",
    "---\n",
    "\n",
    "**Lab XX**: 01\n",
    "\n",
    "**Date**:31/08/2025\n",
    "\n",
    "**Student Name**: Vicente Sebastian Serrano Cabrera\n",
    "\n",
    "**Professor**: Pablo Camarillo Ramirez "
   ]
  },
  {
   "cell_type": "code",
   "execution_count": 1,
   "id": "f6a522b3-9bfe-4b2c-a46c-389806d09cf0",
   "metadata": {},
   "outputs": [
    {
     "name": "stdout",
     "output_type": "stream",
     "text": [
      "Total de plays: 9\n"
     ]
    }
   ],
   "source": [
    "plays = [\n",
    "    (\"UserA\", \"Song1\"),\n",
    "    (\"UserB\", \"Song1\"),\n",
    "    (\"UserA\", \"Song2\"),\n",
    "    (\"UserA\", \"Song1\"),\n",
    "    (\"UserC\", \"Song3\"),\n",
    "    (\"UserB\", \"Song2\"),\n",
    "    (\"UserD\", \"Song1\"),\n",
    "    (\"UserC\", \"Song1\"),\n",
    "    (\"UserD\", \"Song3\"),\n",
    "    ]\n",
    "\n",
    "print(\"Total de plays:\", len(plays))"
   ]
  },
  {
   "cell_type": "markdown",
   "id": "47eb74fd-1079-4c5e-933e-3d1ba07a966e",
   "metadata": {},
   "source": [
    "**Ejecicio 1**: Quitando duplicados"
   ]
  },
  {
   "cell_type": "code",
   "execution_count": 2,
   "id": "06190e8d-a5d8-4905-92d4-e93dbef46383",
   "metadata": {},
   "outputs": [
    {
     "name": "stdout",
     "output_type": "stream",
     "text": [
      "Total de plays sin duplicados: 8\n"
     ]
    }
   ],
   "source": [
    "plays_sin_duplicados = list(set(plays))\n",
    "print(\"Total de plays sin duplicados:\", len(plays_sin_duplicados))"
   ]
  },
  {
   "cell_type": "markdown",
   "id": "d7c1e404-4cce-4da7-b0a7-a30956c350d6",
   "metadata": {},
   "source": [
    "**Ejecicio 2**: Canciones unicas de cada usuario"
   ]
  },
  {
   "cell_type": "code",
   "execution_count": 3,
   "id": "5a1f283b-0635-4239-b594-025e9b4978ac",
   "metadata": {},
   "outputs": [
    {
     "name": "stdout",
     "output_type": "stream",
     "text": [
      "UserA = 2\n",
      "UserB = 2\n",
      "UserC = 2\n",
      "UserD = 2\n"
     ]
    }
   ],
   "source": [
    "canciones_por_usuarios = {}\n",
    "for usuario, cancion in plays_sin_duplicados:\n",
    "    if usuario not in canciones_por_usuarios:\n",
    "        canciones_por_usuarios[usuario] = 0\n",
    "    canciones_por_usuarios[usuario] += 1\n",
    "\n",
    "for usuario in sorted(canciones_por_usuarios):\n",
    "    print(usuario, \"=\", canciones_por_usuarios[usuario])"
   ]
  },
  {
   "cell_type": "markdown",
   "id": "3b813fb1-fccb-429a-aec6-1e563e62be21",
   "metadata": {},
   "source": [
    "**Ejecicio 3**: Canciones más populares"
   ]
  },
  {
   "cell_type": "code",
   "execution_count": 20,
   "id": "807213ca-63b6-41d2-83bc-362a4e2b6807",
   "metadata": {},
   "outputs": [
    {
     "name": "stdout",
     "output_type": "stream",
     "text": [
      "Song1 = 4\n",
      "Song2 = 2\n",
      "Song3 = 2\n",
      "Canción más popular: ['Song1']\n"
     ]
    }
   ],
   "source": [
    "canciones_populares = {}\n",
    "for usuario, cancion in plays_sin_duplicados:\n",
    "    if cancion not in canciones_populares:\n",
    "        canciones_populares[cancion]  = 0\n",
    "    canciones_populares[cancion] += 1\n",
    "\n",
    "for cancion in sorted(canciones_populares):\n",
    "    print(cancion, \"=\", canciones_populares[cancion])\n",
    "\n",
    "Top = max(canciones_populares.values())\n",
    "Top1 = [cancion for cancion, conteo in canciones_populares.items() if conteo == Top]\n",
    "print(\"Canción más popular:\", Top1)"
   ]
  },
  {
   "cell_type": "markdown",
   "id": "caf7e80e-120c-41af-9019-818f1dcdd325",
   "metadata": {},
   "source": [
    "**Resultados**: Canciones más populares"
   ]
  },
  {
   "cell_type": "code",
   "execution_count": 18,
   "id": "336063c7-49a6-4a42-a56a-ae9877c91663",
   "metadata": {},
   "outputs": [
    {
     "name": "stdout",
     "output_type": "stream",
     "text": [
      "\n",
      "Total de datos sin duplicados: 8\n",
      "\n",
      "Total de peliculas unicas por usuario\n",
      "UserA = 2\n",
      "UserB = 2\n",
      "UserC = 2\n",
      "UserD = 2\n",
      "\n",
      "Canción más popular: ['Song1']\n"
     ]
    }
   ],
   "source": [
    "print(\"\\nTotal de datos sin duplicados:\", len(plays_sin_duplicados))\n",
    "\n",
    "print(\"\\nTotal de peliculas unicas por usuario\")\n",
    "for usuario in sorted(canciones_por_usuarios):\n",
    "    print(usuario, \"=\", canciones_por_usuarios[usuario])\n",
    "\n",
    "Top = max(canciones_populares.values())\n",
    "Top1 = [cancion for cancion, conteo in canciones_populares.items() if conteo == Top]\n",
    "print(\"\\nCanción más popular:\", Top1)"
   ]
  },
  {
   "cell_type": "code",
   "execution_count": null,
   "id": "2c4f8935-a866-49cf-9d57-fb23a9ee1704",
   "metadata": {},
   "outputs": [],
   "source": []
  }
 ],
 "metadata": {
  "kernelspec": {
   "display_name": "Python 3 (ipykernel)",
   "language": "python",
   "name": "python3"
  },
  "language_info": {
   "codemirror_mode": {
    "name": "ipython",
    "version": 3
   },
   "file_extension": ".py",
   "mimetype": "text/x-python",
   "name": "python",
   "nbconvert_exporter": "python",
   "pygments_lexer": "ipython3",
   "version": "3.10.12"
  }
 },
 "nbformat": 4,
 "nbformat_minor": 5
}
