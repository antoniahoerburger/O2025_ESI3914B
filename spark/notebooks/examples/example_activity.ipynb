{
 "cells": [
  {
   "cell_type": "markdown",
   "id": "66b9ec00",
   "metadata": {},
   "source": [
    "# Actividad"
   ]
  },
  {
   "cell_type": "code",
   "execution_count": null,
   "id": "df944ff2",
   "metadata": {},
   "outputs": [],
   "source": [
    "import findspark\n",
    "findspark.init()"
   ]
  },
  {
   "cell_type": "code",
   "execution_count": null,
   "id": "e574f3e3",
   "metadata": {},
   "outputs": [],
   "source": [
    "from pyspark.sql import SparkSession"
   ]
  },
  {
   "cell_type": "code",
   "execution_count": null,
   "id": "dd344fc1",
   "metadata": {},
   "outputs": [],
   "source": [
    "spark = (\n",
    "    SparkSession.builder.appName(\"Examples on Map Reduce\")\n",
    "    .master(\"spark://9835fefe4923:7077\")\n",
    "    .config(\"spark.ui.port\", \"4040\")\n",
    "    .getOrCreate()\n",
    ")\n",
    "\n",
    "sc = spark.sparkContext\n",
    "sc.setLogLevel(\"ERROR\")"
   ]
  },
  {
   "cell_type": "code",
   "execution_count": null,
   "id": "1dcef480",
   "metadata": {},
   "outputs": [],
   "source": [
    "words = [\"apple\", \"banana\", \"apple\", \"orange\", \"banana\", \"apple\", \"orange\", \"orange\"]\n",
    "\n",
    "words_rdd = sc.parallelize(words)\n",
    "words_rdd.take(5)"
   ]
  },
  {
   "cell_type": "code",
   "execution_count": null,
   "id": "51453b78",
   "metadata": {},
   "outputs": [],
   "source": [
    "# Map: (palabra) -> (palabra, 1)\n",
    "pairs = words_rdd.map(lambda w: (w, 1))\n",
    "\n",
    "# ReduceByKey: suma los valores por clave (palabra)\n",
    "counts = pairs.reduceByKey(lambda a, b: a + b)\n",
    "\n",
    "result = counts.sortByKey()\n",
    "\n",
    "# Acción que dispara el job\n",
    "for k, v in result.collect():\n",
    "    print(f\"{k}: {v}\")"
   ]
  }
 ],
 "metadata": {
  "kernelspec": {
   "display_name": "Python 3 (ipykernel)",
   "language": "python",
   "name": "python3"
  },
  "language_info": {
   "codemirror_mode": {
    "name": "ipython",
    "version": 3
   },
   "file_extension": ".py",
   "mimetype": "text/x-python",
   "name": "python",
   "nbconvert_exporter": "python",
   "pygments_lexer": "ipython3",
   "version": "3.10.12"
  }
 },
 "nbformat": 4,
 "nbformat_minor": 5
}
